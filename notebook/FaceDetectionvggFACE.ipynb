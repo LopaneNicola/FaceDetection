{
 "cells": [
  {
   "cell_type": "code",
   "execution_count": 1,
   "metadata": {
    "colab": {
     "base_uri": "https://localhost:8080/",
     "height": 234
    },
    "colab_type": "code",
    "id": "aNXH9i6zKIxD",
    "outputId": "8f9955b2-f996-4bc6-dcb7-833dfb13809f"
   },
   "outputs": [
    {
     "name": "stdout",
     "output_type": "stream",
     "text": [
      "Requirement already satisfied: keras-vggface in c:\\users\\nico9\\anaconda3\\envs\\gputest\\lib\\site-packages (0.6)\n",
      "Requirement already satisfied: scipy>=0.14 in c:\\users\\nico9\\appdata\\roaming\\python\\python37\\site-packages (from keras-vggface) (1.4.1)\n",
      "Requirement already satisfied: h5py in c:\\users\\nico9\\appdata\\roaming\\python\\python37\\site-packages (from keras-vggface) (2.10.0)\n",
      "Requirement already satisfied: pillow in c:\\users\\nico9\\anaconda3\\envs\\gputest\\lib\\site-packages (from keras-vggface) (7.1.2)\n",
      "Requirement already satisfied: keras in c:\\users\\nico9\\anaconda3\\envs\\gputest\\lib\\site-packages (from keras-vggface) (2.3.1)\n",
      "Requirement already satisfied: six>=1.9.0 in c:\\users\\nico9\\appdata\\roaming\\python\\python37\\site-packages (from keras-vggface) (1.14.0)\n",
      "Requirement already satisfied: pyyaml in c:\\users\\nico9\\anaconda3\\envs\\gputest\\lib\\site-packages (from keras-vggface) (5.3.1)\n",
      "Requirement already satisfied: numpy>=1.9.1 in c:\\users\\nico9\\appdata\\roaming\\python\\python37\\site-packages (from keras-vggface) (1.18.4)\n",
      "Requirement already satisfied: keras-preprocessing>=1.0.5 in c:\\users\\nico9\\appdata\\roaming\\python\\python37\\site-packages (from keras->keras-vggface) (1.1.2)\n",
      "Requirement already satisfied: keras-applications>=1.0.6 in c:\\users\\nico9\\anaconda3\\envs\\gputest\\lib\\site-packages (from keras->keras-vggface) (1.0.8)\n"
     ]
    }
   ],
   "source": [
    "!pip install keras-vggface"
   ]
  },
  {
   "cell_type": "markdown",
   "metadata": {},
   "source": [
    "Importiamo le librerie necessarie."
   ]
  },
  {
   "cell_type": "code",
   "execution_count": 2,
   "metadata": {
    "colab": {
     "base_uri": "https://localhost:8080/",
     "height": 33
    },
    "colab_type": "code",
    "id": "uja7Om2eJ69K",
    "outputId": "a1329cda-4dea-4bea-bdc5-50763619ed01"
   },
   "outputs": [],
   "source": [
    "from keras_vggface.vggface import VGGFace\n",
    "from keras.models import Model\n",
    "from keras.layers import Flatten, Dense, Dropout, Conv2D, Input, MaxPooling2D, Activation\n",
    "from keras.preprocessing.image import ImageDataGenerator\n",
    "import random\n",
    "from keras.optimizers import SGD\n",
    "from keras.applications.vgg16 import preprocess_input\n",
    "from keras.callbacks import ModelCheckpoint, ReduceLROnPlateau\n",
    "from keras import backend as K\n",
    "from keras.constraints import Constraint\n",
    "from keras.models import load_model\n",
    "from keras.callbacks import CSVLogger\n",
    "import matplotlib.pyplot as plt\n",
    "import numpy as np\n",
    "import math\n",
    "import pandas as pd\n"
   ]
  },
  {
   "cell_type": "markdown",
   "metadata": {},
   "source": [
    "Carichiamo il modello della **VGGFace** e settiamo la dimensione dell'immagine a 224X224. Il modello caricato è quello della vggface basato però sulla vgg16, come indicato dalla parola **model**."
   ]
  },
  {
   "cell_type": "code",
   "execution_count": 2,
   "metadata": {
    "colab": {
     "base_uri": "https://localhost:8080/",
     "height": 50
    },
    "colab_type": "code",
    "id": "7AzMmAOUKMSZ",
    "outputId": "06655017-64f1-47d2-eef6-747386873422"
   },
   "outputs": [],
   "source": [
    "IMAGE_SIZE = 224\n",
    "vggface = VGGFace(model='vgg16', input_shape=(IMAGE_SIZE, IMAGE_SIZE, 3))"
   ]
  },
  {
   "cell_type": "markdown",
   "metadata": {},
   "source": [
    "Consideriamo tutti i layer della VGGFace aggiungendone e modificandone alcuni. E' stato aggiunto un layer **Dropout**, con dropout rate settato a 0.7, dopo il primo layer fully connected del modello. Sono stati eliminati gli ultimi due layer (tramite la funzione pop()) aggiungendo un layer Dense con numero di classi pari a 7."
   ]
  },
  {
   "cell_type": "code",
   "execution_count": 3,
   "metadata": {
    "colab": {
     "base_uri": "https://localhost:8080/",
     "height": 1000
    },
    "colab_type": "code",
    "collapsed": true,
    "id": "EZQJe5GQKW6V",
    "outputId": "c34b1657-1dfc-4e73-b381-f2ce8793c4cf"
   },
   "outputs": [
    {
     "name": "stdout",
     "output_type": "stream",
     "text": [
      "WARNING:tensorflow:Large dropout rate: 0.7 (>0.5). In TensorFlow 2.x, dropout() uses dropout rate instead of keep_prob. Please ensure that this is intended.\n",
      "Model: \"model_1\"\n",
      "_________________________________________________________________\n",
      "Layer (type)                 Output Shape              Param #   \n",
      "=================================================================\n",
      "input_1 (InputLayer)         (None, 224, 224, 3)       0         \n",
      "_________________________________________________________________\n",
      "conv1_1 (Conv2D)             (None, 224, 224, 64)      1792      \n",
      "_________________________________________________________________\n",
      "conv1_2 (Conv2D)             (None, 224, 224, 64)      36928     \n",
      "_________________________________________________________________\n",
      "pool1 (MaxPooling2D)         (None, 112, 112, 64)      0         \n",
      "_________________________________________________________________\n",
      "conv2_1 (Conv2D)             (None, 112, 112, 128)     73856     \n",
      "_________________________________________________________________\n",
      "conv2_2 (Conv2D)             (None, 112, 112, 128)     147584    \n",
      "_________________________________________________________________\n",
      "pool2 (MaxPooling2D)         (None, 56, 56, 128)       0         \n",
      "_________________________________________________________________\n",
      "conv3_1 (Conv2D)             (None, 56, 56, 256)       295168    \n",
      "_________________________________________________________________\n",
      "conv3_2 (Conv2D)             (None, 56, 56, 256)       590080    \n",
      "_________________________________________________________________\n",
      "conv3_3 (Conv2D)             (None, 56, 56, 256)       590080    \n",
      "_________________________________________________________________\n",
      "pool3 (MaxPooling2D)         (None, 28, 28, 256)       0         \n",
      "_________________________________________________________________\n",
      "conv4_1 (Conv2D)             (None, 28, 28, 512)       1180160   \n",
      "_________________________________________________________________\n",
      "conv4_2 (Conv2D)             (None, 28, 28, 512)       2359808   \n",
      "_________________________________________________________________\n",
      "conv4_3 (Conv2D)             (None, 28, 28, 512)       2359808   \n",
      "_________________________________________________________________\n",
      "pool4 (MaxPooling2D)         (None, 14, 14, 512)       0         \n",
      "_________________________________________________________________\n",
      "conv5_1 (Conv2D)             (None, 14, 14, 512)       2359808   \n",
      "_________________________________________________________________\n",
      "conv5_2 (Conv2D)             (None, 14, 14, 512)       2359808   \n",
      "_________________________________________________________________\n",
      "conv5_3 (Conv2D)             (None, 14, 14, 512)       2359808   \n",
      "_________________________________________________________________\n",
      "pool5 (MaxPooling2D)         (None, 7, 7, 512)         0         \n",
      "_________________________________________________________________\n",
      "flatten (Flatten)            (None, 25088)             0         \n",
      "_________________________________________________________________\n",
      "fc6 (Dense)                  (None, 4096)              102764544 \n",
      "_________________________________________________________________\n",
      "fc6/relu (Activation)        (None, 4096)              0         \n",
      "_________________________________________________________________\n",
      "Dropout (Dropout)            (None, 4096)              0         \n",
      "_________________________________________________________________\n",
      "fc7 (Dense)                  (None, 4096)              16781312  \n",
      "_________________________________________________________________\n",
      "fc7/relu (Activation)        (None, 4096)              0         \n",
      "_________________________________________________________________\n",
      "dense_1 (Dense)              (None, 7)                 28679     \n",
      "=================================================================\n",
      "Total params: 134,289,223\n",
      "Trainable params: 119,574,535\n",
      "Non-trainable params: 14,714,688\n",
      "_________________________________________________________________\n"
     ]
    }
   ],
   "source": [
    "vggface.layers.pop()\n",
    "vggface.layers.pop()\n",
    "layers = [l for l in vggface.layers]\n",
    "for i in range(0, 18):\n",
    "     layers[i].trainable = False\n",
    "\n",
    "x = Dropout(0.7, name = 'Dropout')(layers[21].output)\n",
    "for i in range(22, len(layers)):\n",
    "    x = layers[i](x)\n",
    "\n",
    "x = Dense(7, activation = 'softmax')(x)    \n",
    "model = Model(inputs = layers[0].input, outputs = x)\n",
    "\n",
    "model.summary()"
   ]
  },
  {
   "cell_type": "markdown",
   "metadata": {},
   "source": [
    "Successivamente carichiamo la cartella contente le immagini di Train e Validation. Attraverso il metodo **ImageDataGenerator** vengono applicate delle funzioni di pre-processing e un flip orizzontale a tali immagini."
   ]
  },
  {
   "cell_type": "code",
   "execution_count": 4,
   "metadata": {
    "colab": {},
    "colab_type": "code",
    "id": "e-ClF-69Kerv"
   },
   "outputs": [],
   "source": [
    "train_folder = \"C:/Users/nico9/Desktop/FaceDetection/Train\"\n",
    "val_folder = \"C:/Users/nico9/Desktop/FaceDetection/Val\"\n",
    "\n",
    "train_datagen = ImageDataGenerator(preprocessing_function=preprocess_input, horizontal_flip=True)\n",
    "val_datagen = ImageDataGenerator(preprocessing_function=preprocess_input, horizontal_flip=True)"
   ]
  },
  {
   "cell_type": "markdown",
   "metadata": {},
   "source": [
    "Attraverso il metodo **flow_from_directory** creiamo i batch con le immagini preprocessate. Inizialmente abbiamo settato un batchsize di train pari a 512, successivamente modificato a 32 a causa di un errore dovuto ad un memory leak."
   ]
  },
  {
   "cell_type": "code",
   "execution_count": 5,
   "metadata": {
    "colab": {
     "base_uri": "https://localhost:8080/",
     "height": 50
    },
    "colab_type": "code",
    "id": "0BVgxQtzK00R",
    "outputId": "6e5318d7-ae44-49bc-8ac6-81d23014427b"
   },
   "outputs": [
    {
     "name": "stdout",
     "output_type": "stream",
     "text": [
      "Found 28709 images belonging to 7 classes.\n",
      "Found 3589 images belonging to 7 classes.\n"
     ]
    }
   ],
   "source": [
    "train_batchsize = 32\n",
    "val_batchsize = 8\n",
    "\n",
    "train_generator = train_datagen.flow_from_directory(\n",
    "        train_folder,\n",
    "        target_size=(IMAGE_SIZE, IMAGE_SIZE),\n",
    "        batch_size=train_batchsize,\n",
    "        class_mode=\"categorical\"\n",
    ")\n",
    "\n",
    "val_generator = val_datagen.flow_from_directory(\n",
    "        val_folder,\n",
    "        target_size=(IMAGE_SIZE, IMAGE_SIZE),\n",
    "        batch_size=val_batchsize,\n",
    "        class_mode=\"categorical\",\n",
    "        shuffle=False\n",
    ")"
   ]
  },
  {
   "cell_type": "markdown",
   "metadata": {},
   "source": [
    "Per evitare di avere una **val_acc** il cui valore rimane invariato per un numero elevato di epoche, utilizziamo il metodo **ReduceLROnPlateau** per decrementare il learning rate di 10 unità ogni 10 epoche. "
   ]
  },
  {
   "cell_type": "code",
   "execution_count": 6,
   "metadata": {
    "colab": {},
    "colab_type": "code",
    "id": "tTZj0BueK3Qu"
   },
   "outputs": [],
   "source": [
    "reduce_lr = ReduceLROnPlateau(monitor = 'val_loss', factor = 0.1 , patience = 10)\n",
    "\n",
    "csv_logger = CSVLogger('training.log', separator=',', append=False)\n",
    "callbacks_list = [reduce_lr, csv_logger]"
   ]
  },
  {
   "cell_type": "markdown",
   "metadata": {},
   "source": [
    "Settiamo un numero di epoche pari a 200 e un learning rate di 10^-4, come ottimizzatore utilizziamo l'**SGD** con un momentum settato a 0.9. E' importante settare questi iperparametri in quanto andranno ad influenzare il training del modello."
   ]
  },
  {
   "cell_type": "code",
   "execution_count": 7,
   "metadata": {
    "colab": {},
    "colab_type": "code",
    "id": "3ng28XliK5ZY"
   },
   "outputs": [],
   "source": [
    "num_epochs = 200\n",
    "learning_rate = 1e-4\n",
    "sgd = SGD(lr=learning_rate, momentum = 0.9)\n",
    "model.compile(loss=\"categorical_crossentropy\", optimizer=sgd, metrics=['acc'])"
   ]
  },
  {
   "cell_type": "markdown",
   "metadata": {},
   "source": [
    "Effettuiamo il training del modello attraverso il metodo **fit_generator** e successivamente salviamo il modello nella cartella saves."
   ]
  },
  {
   "cell_type": "code",
   "execution_count": 8,
   "metadata": {
    "colab": {
     "base_uri": "https://localhost:8080/",
     "height": 470
    },
    "colab_type": "code",
    "collapsed": true,
    "id": "8ubCRRmLK7Xd",
    "outputId": "6f102321-801c-401a-abd4-1f5a9391a2a9"
   },
   "outputs": [
    {
     "name": "stdout",
     "output_type": "stream",
     "text": [
      "Epoch 1/200\n",
      "898/898 [==============================] - 263s 293ms/step - loss: 1.8004 - acc: 0.4408 - val_loss: 1.4655 - val_acc: 0.5208\n",
      "Epoch 2/200\n",
      "898/898 [==============================] - 258s 287ms/step - loss: 1.2704 - acc: 0.5413 - val_loss: 1.1858 - val_acc: 0.5709\n",
      "Epoch 3/200\n",
      "898/898 [==============================] - 257s 287ms/step - loss: 1.1299 - acc: 0.5891 - val_loss: 1.3176 - val_acc: 0.5893\n",
      "Epoch 4/200\n",
      "898/898 [==============================] - 258s 288ms/step - loss: 1.0439 - acc: 0.6177 - val_loss: 0.9949 - val_acc: 0.5899\n",
      "Epoch 5/200\n",
      "898/898 [==============================] - 258s 288ms/step - loss: 0.9677 - acc: 0.6439 - val_loss: 0.9699 - val_acc: 0.6116\n",
      "Epoch 6/200\n",
      "898/898 [==============================] - 258s 288ms/step - loss: 0.9081 - acc: 0.6702 - val_loss: 1.3067 - val_acc: 0.6155\n",
      "Epoch 7/200\n",
      "898/898 [==============================] - 258s 287ms/step - loss: 0.8522 - acc: 0.6855 - val_loss: 0.9602 - val_acc: 0.6350\n",
      "Epoch 8/200\n",
      "898/898 [==============================] - 258s 288ms/step - loss: 0.8057 - acc: 0.7059 - val_loss: 1.2024 - val_acc: 0.6328\n",
      "Epoch 9/200\n",
      "898/898 [==============================] - 258s 287ms/step - loss: 0.7600 - acc: 0.7211 - val_loss: 1.1936 - val_acc: 0.6328\n",
      "Epoch 10/200\n",
      "898/898 [==============================] - 258s 287ms/step - loss: 0.7196 - acc: 0.7382 - val_loss: 1.0371 - val_acc: 0.6509\n",
      "Epoch 11/200\n",
      "898/898 [==============================] - 258s 288ms/step - loss: 0.6787 - acc: 0.7529 - val_loss: 1.4879 - val_acc: 0.6492\n",
      "Epoch 12/200\n",
      "898/898 [==============================] - 258s 287ms/step - loss: 0.6497 - acc: 0.7648 - val_loss: 1.1563 - val_acc: 0.6539\n",
      "Epoch 13/200\n",
      "898/898 [==============================] - 258s 287ms/step - loss: 0.6185 - acc: 0.7748 - val_loss: 1.1233 - val_acc: 0.6654\n",
      "Epoch 14/200\n",
      "898/898 [==============================] - 258s 287ms/step - loss: 0.5829 - acc: 0.7900 - val_loss: 1.2623 - val_acc: 0.6587\n",
      "Epoch 15/200\n",
      "898/898 [==============================] - 258s 287ms/step - loss: 0.5511 - acc: 0.7999 - val_loss: 0.9624 - val_acc: 0.6562\n",
      "Epoch 16/200\n",
      "898/898 [==============================] - 258s 288ms/step - loss: 0.5283 - acc: 0.8106 - val_loss: 1.3815 - val_acc: 0.6651\n",
      "Epoch 17/200\n",
      "898/898 [==============================] - 258s 287ms/step - loss: 0.4997 - acc: 0.8182 - val_loss: 1.3316 - val_acc: 0.6631\n",
      "Epoch 18/200\n",
      "898/898 [==============================] - 258s 287ms/step - loss: 0.4583 - acc: 0.8380 - val_loss: 1.0586 - val_acc: 0.6609\n",
      "Epoch 19/200\n",
      "898/898 [==============================] - 258s 287ms/step - loss: 0.4422 - acc: 0.8456 - val_loss: 1.3594 - val_acc: 0.6634\n",
      "Epoch 20/200\n",
      "898/898 [==============================] - 258s 287ms/step - loss: 0.4327 - acc: 0.8482 - val_loss: 1.4196 - val_acc: 0.6640\n",
      "Epoch 21/200\n",
      "898/898 [==============================] - 258s 287ms/step - loss: 0.4265 - acc: 0.8513 - val_loss: 1.1016 - val_acc: 0.6609\n",
      "Epoch 22/200\n",
      "898/898 [==============================] - 258s 287ms/step - loss: 0.4272 - acc: 0.8494 - val_loss: 1.4181 - val_acc: 0.6704\n",
      "Epoch 23/200\n",
      "898/898 [==============================] - 258s 287ms/step - loss: 0.4239 - acc: 0.8531 - val_loss: 1.1057 - val_acc: 0.6620\n",
      "Epoch 24/200\n",
      "898/898 [==============================] - 258s 287ms/step - loss: 0.4203 - acc: 0.8515 - val_loss: 1.1066 - val_acc: 0.6701\n",
      "Epoch 25/200\n",
      "898/898 [==============================] - 258s 287ms/step - loss: 0.4139 - acc: 0.8558 - val_loss: 1.0547 - val_acc: 0.6665\n",
      "Epoch 26/200\n",
      "898/898 [==============================] - 258s 287ms/step - loss: 0.4138 - acc: 0.8542 - val_loss: 1.4330 - val_acc: 0.6690\n",
      "Epoch 27/200\n",
      "898/898 [==============================] - 258s 287ms/step - loss: 0.4055 - acc: 0.8606 - val_loss: 1.0498 - val_acc: 0.6656\n",
      "Epoch 28/200\n",
      "898/898 [==============================] - 258s 287ms/step - loss: 0.4011 - acc: 0.8593 - val_loss: 1.0538 - val_acc: 0.6634\n",
      "Epoch 29/200\n",
      "898/898 [==============================] - 258s 287ms/step - loss: 0.3951 - acc: 0.8600 - val_loss: 1.4233 - val_acc: 0.6690\n",
      "Epoch 30/200\n",
      "898/898 [==============================] - 258s 287ms/step - loss: 0.3995 - acc: 0.8610 - val_loss: 1.0516 - val_acc: 0.6654\n",
      "Epoch 31/200\n",
      "898/898 [==============================] - 258s 287ms/step - loss: 0.3946 - acc: 0.8647 - val_loss: 1.0688 - val_acc: 0.6670\n",
      "Epoch 32/200\n",
      "898/898 [==============================] - 258s 287ms/step - loss: 0.3968 - acc: 0.8625 - val_loss: 1.4278 - val_acc: 0.6656\n",
      "Epoch 33/200\n",
      "898/898 [==============================] - 258s 287ms/step - loss: 0.4000 - acc: 0.8609 - val_loss: 1.0728 - val_acc: 0.6734\n",
      "Epoch 34/200\n",
      "898/898 [==============================] - 258s 287ms/step - loss: 0.3947 - acc: 0.8621 - val_loss: 1.4349 - val_acc: 0.6673\n",
      "Epoch 35/200\n",
      "898/898 [==============================] - 258s 287ms/step - loss: 0.3957 - acc: 0.8634 - val_loss: 1.4384 - val_acc: 0.6715\n",
      "Epoch 36/200\n",
      "898/898 [==============================] - 258s 287ms/step - loss: 0.3953 - acc: 0.8626 - val_loss: 1.0648 - val_acc: 0.6676\n",
      "Epoch 37/200\n",
      "898/898 [==============================] - 258s 287ms/step - loss: 0.3940 - acc: 0.8635 - val_loss: 1.0520 - val_acc: 0.6634\n",
      "Epoch 38/200\n",
      "898/898 [==============================] - 257s 287ms/step - loss: 0.3982 - acc: 0.8603 - val_loss: 1.4430 - val_acc: 0.6634\n",
      "Epoch 39/200\n",
      "898/898 [==============================] - 257s 287ms/step - loss: 0.3889 - acc: 0.8643 - val_loss: 1.0509 - val_acc: 0.6721\n",
      "Epoch 40/200\n",
      "898/898 [==============================] - 258s 287ms/step - loss: 0.3953 - acc: 0.8627 - val_loss: 1.4357 - val_acc: 0.6704\n",
      "Epoch 41/200\n",
      "898/898 [==============================] - 258s 287ms/step - loss: 0.3936 - acc: 0.8642 - val_loss: 1.4427 - val_acc: 0.6729\n",
      "Epoch 42/200\n",
      "898/898 [==============================] - 258s 287ms/step - loss: 0.3922 - acc: 0.8644 - val_loss: 1.4317 - val_acc: 0.6617\n",
      "Epoch 43/200\n",
      "898/898 [==============================] - 258s 287ms/step - loss: 0.3911 - acc: 0.8649 - val_loss: 1.4314 - val_acc: 0.6670\n",
      "Epoch 44/200\n",
      "898/898 [==============================] - 258s 287ms/step - loss: 0.3942 - acc: 0.8644 - val_loss: 1.0690 - val_acc: 0.6637\n",
      "Epoch 45/200\n",
      "898/898 [==============================] - 258s 287ms/step - loss: 0.3981 - acc: 0.8621 - val_loss: 1.4423 - val_acc: 0.6651\n",
      "Epoch 46/200\n",
      "898/898 [==============================] - 258s 287ms/step - loss: 0.3978 - acc: 0.8624 - val_loss: 1.4324 - val_acc: 0.6648\n",
      "Epoch 47/200\n",
      "898/898 [==============================] - 258s 287ms/step - loss: 0.3969 - acc: 0.8628 - val_loss: 1.4245 - val_acc: 0.6643\n",
      "Epoch 48/200\n",
      "898/898 [==============================] - 258s 287ms/step - loss: 0.3974 - acc: 0.8609 - val_loss: 1.4356 - val_acc: 0.6659\n",
      "Epoch 49/200\n",
      "898/898 [==============================] - 258s 287ms/step - loss: 0.3953 - acc: 0.8605 - val_loss: 1.4362 - val_acc: 0.6637\n",
      "Epoch 50/200\n",
      "898/898 [==============================] - 257s 287ms/step - loss: 0.3958 - acc: 0.8625 - val_loss: 1.4428 - val_acc: 0.6668\n",
      "Epoch 51/200\n",
      "898/898 [==============================] - 257s 287ms/step - loss: 0.3932 - acc: 0.8649 - val_loss: 1.4251 - val_acc: 0.6709\n",
      "Epoch 52/200\n",
      "898/898 [==============================] - 257s 287ms/step - loss: 0.3935 - acc: 0.8635 - val_loss: 1.0587 - val_acc: 0.6654\n",
      "Epoch 53/200\n",
      "898/898 [==============================] - 257s 287ms/step - loss: 0.3904 - acc: 0.8665 - val_loss: 1.4244 - val_acc: 0.6665\n",
      "Epoch 54/200\n",
      "898/898 [==============================] - 257s 287ms/step - loss: 0.3957 - acc: 0.8636 - val_loss: 1.4361 - val_acc: 0.6670\n",
      "Epoch 55/200\n",
      "898/898 [==============================] - 257s 286ms/step - loss: 0.3938 - acc: 0.8628 - val_loss: 1.4245 - val_acc: 0.6701\n",
      "Epoch 56/200\n",
      "898/898 [==============================] - 257s 287ms/step - loss: 0.3915 - acc: 0.8640 - val_loss: 1.0691 - val_acc: 0.6682\n",
      "Epoch 57/200\n",
      "898/898 [==============================] - 257s 287ms/step - loss: 0.3942 - acc: 0.8623 - val_loss: 1.0698 - val_acc: 0.6693\n",
      "Epoch 58/200\n",
      "898/898 [==============================] - 257s 287ms/step - loss: 0.3982 - acc: 0.8637 - val_loss: 1.0697 - val_acc: 0.6715\n",
      "Epoch 59/200\n",
      "898/898 [==============================] - 257s 287ms/step - loss: 0.3972 - acc: 0.8603 - val_loss: 1.0691 - val_acc: 0.6631\n",
      "Epoch 60/200\n",
      "898/898 [==============================] - 258s 287ms/step - loss: 0.3941 - acc: 0.8639 - val_loss: 1.0617 - val_acc: 0.6648\n",
      "Epoch 61/200\n",
      "898/898 [==============================] - 258s 287ms/step - loss: 0.3988 - acc: 0.8608 - val_loss: 1.0698 - val_acc: 0.6643\n",
      "Epoch 62/200\n",
      "898/898 [==============================] - 257s 287ms/step - loss: 0.3949 - acc: 0.8634 - val_loss: 1.4435 - val_acc: 0.6684\n",
      "Epoch 63/200\n",
      "898/898 [==============================] - 257s 287ms/step - loss: 0.3967 - acc: 0.8615 - val_loss: 1.0506 - val_acc: 0.6682\n",
      "Epoch 64/200\n",
      "898/898 [==============================] - 257s 287ms/step - loss: 0.3941 - acc: 0.8628 - val_loss: 1.4243 - val_acc: 0.6673\n",
      "Epoch 65/200\n",
      "898/898 [==============================] - 258s 287ms/step - loss: 0.3900 - acc: 0.8650 - val_loss: 1.4354 - val_acc: 0.6659\n",
      "Epoch 66/200\n",
      "898/898 [==============================] - 258s 287ms/step - loss: 0.3988 - acc: 0.8599 - val_loss: 1.4243 - val_acc: 0.6684\n",
      "Epoch 67/200\n",
      "898/898 [==============================] - 258s 287ms/step - loss: 0.3969 - acc: 0.8640 - val_loss: 1.4243 - val_acc: 0.6673\n",
      "Epoch 68/200\n",
      "898/898 [==============================] - 258s 287ms/step - loss: 0.3983 - acc: 0.8630 - val_loss: 1.4362 - val_acc: 0.6673\n",
      "Epoch 69/200\n",
      "898/898 [==============================] - 258s 287ms/step - loss: 0.3959 - acc: 0.8629 - val_loss: 1.4317 - val_acc: 0.6620\n",
      "Epoch 70/200\n",
      "898/898 [==============================] - 258s 287ms/step - loss: 0.3945 - acc: 0.8623 - val_loss: 1.4434 - val_acc: 0.6640\n",
      "Epoch 71/200\n",
      "898/898 [==============================] - 258s 287ms/step - loss: 0.3949 - acc: 0.8628 - val_loss: 1.0587 - val_acc: 0.6665\n",
      "Epoch 72/200\n",
      "898/898 [==============================] - 258s 287ms/step - loss: 0.3970 - acc: 0.8637 - val_loss: 1.4428 - val_acc: 0.6690\n",
      "Epoch 73/200\n",
      "898/898 [==============================] - 258s 287ms/step - loss: 0.3923 - acc: 0.8632 - val_loss: 1.4362 - val_acc: 0.6662\n",
      "Epoch 74/200\n",
      "898/898 [==============================] - 258s 287ms/step - loss: 0.3972 - acc: 0.8612 - val_loss: 1.0691 - val_acc: 0.6695\n",
      "Epoch 75/200\n",
      "898/898 [==============================] - 258s 287ms/step - loss: 0.3951 - acc: 0.8614 - val_loss: 1.0587 - val_acc: 0.6676\n",
      "Epoch 76/200\n",
      "898/898 [==============================] - 258s 287ms/step - loss: 0.3889 - acc: 0.8658 - val_loss: 1.0625 - val_acc: 0.6648\n",
      "Epoch 77/200\n",
      "898/898 [==============================] - 258s 287ms/step - loss: 0.3996 - acc: 0.8605 - val_loss: 1.4324 - val_acc: 0.6665\n",
      "Epoch 78/200\n",
      "898/898 [==============================] - 258s 287ms/step - loss: 0.3944 - acc: 0.8657 - val_loss: 1.0587 - val_acc: 0.6645\n",
      "Epoch 79/200\n",
      "898/898 [==============================] - 258s 287ms/step - loss: 0.4027 - acc: 0.8608 - val_loss: 1.4434 - val_acc: 0.6693\n",
      "Epoch 80/200\n",
      "898/898 [==============================] - 257s 287ms/step - loss: 0.3966 - acc: 0.8621 - val_loss: 1.4251 - val_acc: 0.6629\n",
      "Epoch 81/200\n",
      "898/898 [==============================] - 257s 287ms/step - loss: 0.3969 - acc: 0.8639 - val_loss: 1.0691 - val_acc: 0.6665\n",
      "Epoch 82/200\n",
      "898/898 [==============================] - 258s 287ms/step - loss: 0.3976 - acc: 0.8603 - val_loss: 1.0506 - val_acc: 0.6615\n",
      "Epoch 83/200\n",
      "898/898 [==============================] - 258s 287ms/step - loss: 0.3956 - acc: 0.8629 - val_loss: 1.4362 - val_acc: 0.6643\n",
      "Epoch 84/200\n",
      "898/898 [==============================] - 258s 287ms/step - loss: 0.3926 - acc: 0.8642 - val_loss: 1.0691 - val_acc: 0.6651\n",
      "Epoch 85/200\n",
      "898/898 [==============================] - 258s 287ms/step - loss: 0.3985 - acc: 0.8591 - val_loss: 1.0514 - val_acc: 0.6612\n",
      "Epoch 86/200\n",
      "898/898 [==============================] - 258s 287ms/step - loss: 0.3942 - acc: 0.8613 - val_loss: 1.0617 - val_acc: 0.6679\n",
      "Epoch 87/200\n",
      "898/898 [==============================] - 258s 287ms/step - loss: 0.3969 - acc: 0.8617 - val_loss: 1.0514 - val_acc: 0.6659\n",
      "Epoch 88/200\n",
      "898/898 [==============================] - 258s 287ms/step - loss: 0.3954 - acc: 0.8635 - val_loss: 1.4324 - val_acc: 0.6687\n",
      "Epoch 89/200\n",
      "898/898 [==============================] - 258s 287ms/step - loss: 0.3942 - acc: 0.8599 - val_loss: 1.0581 - val_acc: 0.6665\n",
      "Epoch 90/200\n",
      "898/898 [==============================] - 258s 287ms/step - loss: 0.3942 - acc: 0.8605 - val_loss: 1.0691 - val_acc: 0.6656\n",
      "Epoch 91/200\n",
      "898/898 [==============================] - 258s 287ms/step - loss: 0.3906 - acc: 0.8630 - val_loss: 1.0618 - val_acc: 0.6687\n",
      "Epoch 92/200\n",
      "898/898 [==============================] - 258s 287ms/step - loss: 0.3943 - acc: 0.8631 - val_loss: 1.4324 - val_acc: 0.6640\n",
      "Epoch 93/200\n",
      "898/898 [==============================] - 257s 287ms/step - loss: 0.3970 - acc: 0.8602 - val_loss: 1.0506 - val_acc: 0.6670\n",
      "Epoch 94/200\n",
      "898/898 [==============================] - 258s 287ms/step - loss: 0.3985 - acc: 0.8593 - val_loss: 1.4244 - val_acc: 0.6645\n",
      "Epoch 95/200\n",
      "898/898 [==============================] - 258s 287ms/step - loss: 0.3956 - acc: 0.8634 - val_loss: 1.4318 - val_acc: 0.6620\n",
      "Epoch 96/200\n",
      "898/898 [==============================] - 257s 287ms/step - loss: 0.3956 - acc: 0.8630 - val_loss: 1.4434 - val_acc: 0.6684\n",
      "Epoch 97/200\n",
      "898/898 [==============================] - 258s 287ms/step - loss: 0.3960 - acc: 0.8613 - val_loss: 1.4435 - val_acc: 0.6645\n",
      "Epoch 98/200\n",
      "898/898 [==============================] - 257s 287ms/step - loss: 0.3960 - acc: 0.8635 - val_loss: 1.0514 - val_acc: 0.6648\n",
      "Epoch 99/200\n",
      "898/898 [==============================] - 258s 287ms/step - loss: 0.3941 - acc: 0.8630 - val_loss: 1.4361 - val_acc: 0.6712\n",
      "Epoch 100/200\n",
      "898/898 [==============================] - 258s 287ms/step - loss: 0.3957 - acc: 0.8627 - val_loss: 1.0618 - val_acc: 0.6626\n",
      "Epoch 101/200\n",
      "898/898 [==============================] - 257s 287ms/step - loss: 0.3956 - acc: 0.8617 - val_loss: 1.0514 - val_acc: 0.6615\n",
      "Epoch 102/200\n",
      "898/898 [==============================] - 257s 287ms/step - loss: 0.3997 - acc: 0.8604 - val_loss: 1.4435 - val_acc: 0.6709\n",
      "Epoch 103/200\n",
      "898/898 [==============================] - 258s 287ms/step - loss: 0.3967 - acc: 0.8629 - val_loss: 1.0580 - val_acc: 0.6673\n",
      "Epoch 104/200\n",
      "898/898 [==============================] - 257s 287ms/step - loss: 0.3942 - acc: 0.8658 - val_loss: 1.4428 - val_acc: 0.6676\n",
      "Epoch 105/200\n",
      "898/898 [==============================] - 257s 287ms/step - loss: 0.3946 - acc: 0.8619 - val_loss: 1.4434 - val_acc: 0.6676\n",
      "Epoch 106/200\n",
      "898/898 [==============================] - 258s 287ms/step - loss: 0.3947 - acc: 0.8619 - val_loss: 1.0691 - val_acc: 0.6684\n",
      "Epoch 107/200\n",
      "898/898 [==============================] - 257s 287ms/step - loss: 0.3951 - acc: 0.8602 - val_loss: 1.0581 - val_acc: 0.6682\n",
      "Epoch 108/200\n",
      "898/898 [==============================] - 257s 287ms/step - loss: 0.3981 - acc: 0.8632 - val_loss: 1.4324 - val_acc: 0.6698\n",
      "Epoch 109/200\n",
      "898/898 [==============================] - 257s 287ms/step - loss: 0.3994 - acc: 0.8613 - val_loss: 1.0587 - val_acc: 0.6665\n",
      "Epoch 110/200\n",
      "898/898 [==============================] - 257s 287ms/step - loss: 0.3985 - acc: 0.8590 - val_loss: 1.0514 - val_acc: 0.6643\n",
      "Epoch 111/200\n",
      "898/898 [==============================] - 257s 287ms/step - loss: 0.3967 - acc: 0.8596 - val_loss: 1.0513 - val_acc: 0.6645\n",
      "Epoch 112/200\n",
      "898/898 [==============================] - 257s 286ms/step - loss: 0.3940 - acc: 0.8624 - val_loss: 1.4244 - val_acc: 0.6631\n",
      "Epoch 113/200\n",
      "898/898 [==============================] - 257s 286ms/step - loss: 0.3919 - acc: 0.8650 - val_loss: 1.4435 - val_acc: 0.6690\n",
      "Epoch 114/200\n",
      "898/898 [==============================] - 257s 286ms/step - loss: 0.3912 - acc: 0.8655 - val_loss: 1.4243 - val_acc: 0.6623\n",
      "Epoch 115/200\n",
      "898/898 [==============================] - 257s 286ms/step - loss: 0.3899 - acc: 0.8673 - val_loss: 1.4324 - val_acc: 0.6701\n",
      "Epoch 116/200\n",
      "898/898 [==============================] - 257s 287ms/step - loss: 0.3943 - acc: 0.8637 - val_loss: 1.0581 - val_acc: 0.6721\n",
      "Epoch 117/200\n",
      "898/898 [==============================] - 257s 286ms/step - loss: 0.3939 - acc: 0.8646 - val_loss: 1.4251 - val_acc: 0.6626\n",
      "Epoch 118/200\n",
      "898/898 [==============================] - 257s 286ms/step - loss: 0.4003 - acc: 0.8613 - val_loss: 1.4318 - val_acc: 0.6631\n",
      "Epoch 119/200\n"
     ]
    },
    {
     "name": "stdout",
     "output_type": "stream",
     "text": [
      "898/898 [==============================] - 257s 287ms/step - loss: 0.3947 - acc: 0.8618 - val_loss: 1.0617 - val_acc: 0.6721\n",
      "Epoch 120/200\n",
      "898/898 [==============================] - 257s 287ms/step - loss: 0.3956 - acc: 0.8644 - val_loss: 1.0580 - val_acc: 0.6679\n",
      "Epoch 121/200\n",
      "898/898 [==============================] - 257s 287ms/step - loss: 0.3975 - acc: 0.8609 - val_loss: 1.4318 - val_acc: 0.6673\n",
      "Epoch 122/200\n",
      "898/898 [==============================] - 257s 287ms/step - loss: 0.3912 - acc: 0.8644 - val_loss: 1.0617 - val_acc: 0.6676\n",
      "Epoch 123/200\n",
      "898/898 [==============================] - 257s 287ms/step - loss: 0.3906 - acc: 0.8649 - val_loss: 1.4434 - val_acc: 0.6640\n",
      "Epoch 124/200\n",
      "898/898 [==============================] - 258s 287ms/step - loss: 0.3973 - acc: 0.8616 - val_loss: 1.0618 - val_acc: 0.6709\n",
      "Epoch 125/200\n",
      "898/898 [==============================] - 257s 287ms/step - loss: 0.3987 - acc: 0.8608 - val_loss: 1.0513 - val_acc: 0.6723\n",
      "Epoch 126/200\n",
      "898/898 [==============================] - 257s 287ms/step - loss: 0.3891 - acc: 0.8651 - val_loss: 1.0624 - val_acc: 0.6679\n",
      "Epoch 127/200\n",
      "898/898 [==============================] - 257s 287ms/step - loss: 0.3943 - acc: 0.8638 - val_loss: 1.4317 - val_acc: 0.6693\n",
      "Epoch 128/200\n",
      "898/898 [==============================] - 258s 287ms/step - loss: 0.3942 - acc: 0.8639 - val_loss: 1.4354 - val_acc: 0.6682\n",
      "Epoch 129/200\n",
      "898/898 [==============================] - 258s 287ms/step - loss: 0.3993 - acc: 0.8629 - val_loss: 1.0624 - val_acc: 0.6665\n",
      "Epoch 130/200\n",
      "898/898 [==============================] - 258s 287ms/step - loss: 0.3944 - acc: 0.8615 - val_loss: 1.0581 - val_acc: 0.6687\n",
      "Epoch 131/200\n",
      "898/898 [==============================] - 258s 287ms/step - loss: 0.3964 - acc: 0.8628 - val_loss: 1.4324 - val_acc: 0.6712\n",
      "Epoch 132/200\n",
      "898/898 [==============================] - 258s 287ms/step - loss: 0.3972 - acc: 0.8634 - val_loss: 1.0587 - val_acc: 0.6659\n",
      "Epoch 133/200\n",
      "898/898 [==============================] - 258s 287ms/step - loss: 0.3991 - acc: 0.8614 - val_loss: 1.0691 - val_acc: 0.6698\n",
      "Epoch 134/200\n",
      "898/898 [==============================] - 258s 287ms/step - loss: 0.3955 - acc: 0.8619 - val_loss: 1.0506 - val_acc: 0.6659\n",
      "Epoch 135/200\n",
      "898/898 [==============================] - 258s 287ms/step - loss: 0.3980 - acc: 0.8612 - val_loss: 1.0514 - val_acc: 0.6679\n",
      "Epoch 136/200\n",
      "898/898 [==============================] - 258s 287ms/step - loss: 0.3954 - acc: 0.8615 - val_loss: 1.4434 - val_acc: 0.6626\n",
      "Epoch 137/200\n",
      "898/898 [==============================] - 258s 287ms/step - loss: 0.4000 - acc: 0.8598 - val_loss: 1.4428 - val_acc: 0.6662\n",
      "Epoch 138/200\n",
      "898/898 [==============================] - 258s 287ms/step - loss: 0.3942 - acc: 0.8654 - val_loss: 1.0617 - val_acc: 0.6656\n",
      "Epoch 139/200\n",
      "898/898 [==============================] - 258s 287ms/step - loss: 0.3963 - acc: 0.8629 - val_loss: 1.4355 - val_acc: 0.6737\n",
      "Epoch 140/200\n",
      "898/898 [==============================] - 258s 287ms/step - loss: 0.4004 - acc: 0.8595 - val_loss: 1.4243 - val_acc: 0.6637\n",
      "Epoch 141/200\n",
      "898/898 [==============================] - 257s 287ms/step - loss: 0.3988 - acc: 0.8616 - val_loss: 1.0618 - val_acc: 0.6670\n",
      "Epoch 142/200\n",
      "898/898 [==============================] - 258s 287ms/step - loss: 0.3927 - acc: 0.8634 - val_loss: 1.4428 - val_acc: 0.6693\n",
      "Epoch 143/200\n",
      "898/898 [==============================] - 258s 287ms/step - loss: 0.3983 - acc: 0.8626 - val_loss: 1.0624 - val_acc: 0.6676\n",
      "Epoch 144/200\n",
      "898/898 [==============================] - 258s 287ms/step - loss: 0.3938 - acc: 0.8638 - val_loss: 1.4428 - val_acc: 0.6676\n",
      "Epoch 145/200\n",
      "898/898 [==============================] - 258s 287ms/step - loss: 0.3925 - acc: 0.8640 - val_loss: 1.0624 - val_acc: 0.6676\n",
      "Epoch 146/200\n",
      "898/898 [==============================] - 258s 287ms/step - loss: 0.3995 - acc: 0.8616 - val_loss: 1.0513 - val_acc: 0.6665\n",
      "Epoch 147/200\n",
      "898/898 [==============================] - 258s 287ms/step - loss: 0.3960 - acc: 0.8605 - val_loss: 1.0580 - val_acc: 0.6595\n",
      "Epoch 148/200\n",
      "898/898 [==============================] - 258s 287ms/step - loss: 0.3937 - acc: 0.8639 - val_loss: 1.0507 - val_acc: 0.6645\n",
      "Epoch 149/200\n",
      "898/898 [==============================] - 258s 287ms/step - loss: 0.3989 - acc: 0.8614 - val_loss: 1.4435 - val_acc: 0.6690\n",
      "Epoch 150/200\n",
      "898/898 [==============================] - 257s 287ms/step - loss: 0.3992 - acc: 0.8600 - val_loss: 1.0617 - val_acc: 0.6651\n",
      "Epoch 151/200\n",
      "898/898 [==============================] - 258s 287ms/step - loss: 0.3967 - acc: 0.8615 - val_loss: 1.4244 - val_acc: 0.6617\n",
      "Epoch 152/200\n",
      "898/898 [==============================] - 258s 287ms/step - loss: 0.3987 - acc: 0.8612 - val_loss: 1.4317 - val_acc: 0.6665\n",
      "Epoch 153/200\n",
      "898/898 [==============================] - 257s 287ms/step - loss: 0.3964 - acc: 0.8617 - val_loss: 1.4244 - val_acc: 0.6665\n",
      "Epoch 154/200\n",
      "898/898 [==============================] - 257s 287ms/step - loss: 0.3963 - acc: 0.8604 - val_loss: 1.4362 - val_acc: 0.6640\n",
      "Epoch 155/200\n",
      "898/898 [==============================] - 258s 287ms/step - loss: 0.3942 - acc: 0.8631 - val_loss: 1.0581 - val_acc: 0.6670\n",
      "Epoch 156/200\n",
      "898/898 [==============================] - 257s 287ms/step - loss: 0.4008 - acc: 0.8600 - val_loss: 1.0698 - val_acc: 0.6721\n",
      "Epoch 157/200\n",
      "898/898 [==============================] - 258s 287ms/step - loss: 0.3968 - acc: 0.8620 - val_loss: 1.0698 - val_acc: 0.6665\n",
      "Epoch 158/200\n",
      "898/898 [==============================] - 257s 287ms/step - loss: 0.3932 - acc: 0.8657 - val_loss: 1.4428 - val_acc: 0.6648\n",
      "Epoch 159/200\n",
      "898/898 [==============================] - 257s 287ms/step - loss: 0.3939 - acc: 0.8641 - val_loss: 1.0587 - val_acc: 0.6723\n",
      "Epoch 160/200\n",
      "898/898 [==============================] - 258s 287ms/step - loss: 0.3999 - acc: 0.8588 - val_loss: 1.4244 - val_acc: 0.6623\n",
      "Epoch 161/200\n",
      "898/898 [==============================] - 258s 287ms/step - loss: 0.3981 - acc: 0.8614 - val_loss: 1.0624 - val_acc: 0.6718\n",
      "Epoch 162/200\n",
      "898/898 [==============================] - 258s 287ms/step - loss: 0.3968 - acc: 0.8609 - val_loss: 1.4324 - val_acc: 0.6707\n",
      "Epoch 163/200\n",
      "898/898 [==============================] - 258s 287ms/step - loss: 0.3959 - acc: 0.8606 - val_loss: 1.0625 - val_acc: 0.6645\n",
      "Epoch 164/200\n",
      "898/898 [==============================] - 257s 287ms/step - loss: 0.3910 - acc: 0.8674 - val_loss: 1.0507 - val_acc: 0.6654\n",
      "Epoch 165/200\n",
      "898/898 [==============================] - 257s 287ms/step - loss: 0.4000 - acc: 0.8615 - val_loss: 1.0507 - val_acc: 0.6668\n",
      "Epoch 166/200\n",
      "898/898 [==============================] - 258s 287ms/step - loss: 0.3924 - acc: 0.8634 - val_loss: 1.0513 - val_acc: 0.6695\n",
      "Epoch 167/200\n",
      "898/898 [==============================] - 257s 287ms/step - loss: 0.3946 - acc: 0.8634 - val_loss: 1.0506 - val_acc: 0.6659\n",
      "Epoch 168/200\n",
      "898/898 [==============================] - 257s 287ms/step - loss: 0.3939 - acc: 0.8640 - val_loss: 1.4362 - val_acc: 0.6654\n",
      "Epoch 169/200\n",
      "898/898 [==============================] - 257s 287ms/step - loss: 0.3989 - acc: 0.8616 - val_loss: 1.4318 - val_acc: 0.6665\n",
      "Epoch 170/200\n",
      "898/898 [==============================] - 257s 287ms/step - loss: 0.3956 - acc: 0.8618 - val_loss: 1.4250 - val_acc: 0.6656\n",
      "Epoch 171/200\n",
      "898/898 [==============================] - 257s 287ms/step - loss: 0.3944 - acc: 0.8633 - val_loss: 1.0698 - val_acc: 0.6712\n",
      "Epoch 172/200\n",
      "898/898 [==============================] - 258s 287ms/step - loss: 0.3981 - acc: 0.8601 - val_loss: 1.0624 - val_acc: 0.6690\n",
      "Epoch 173/200\n",
      "898/898 [==============================] - 257s 287ms/step - loss: 0.3984 - acc: 0.8649 - val_loss: 1.0587 - val_acc: 0.6721\n",
      "Epoch 174/200\n",
      "898/898 [==============================] - 258s 287ms/step - loss: 0.3934 - acc: 0.8640 - val_loss: 1.0514 - val_acc: 0.6670\n",
      "Epoch 175/200\n",
      "898/898 [==============================] - 257s 287ms/step - loss: 0.3918 - acc: 0.8623 - val_loss: 1.4434 - val_acc: 0.6682\n",
      "Epoch 176/200\n",
      "898/898 [==============================] - 257s 287ms/step - loss: 0.3940 - acc: 0.8656 - val_loss: 1.4318 - val_acc: 0.6668\n",
      "Epoch 177/200\n",
      "898/898 [==============================] - 257s 287ms/step - loss: 0.3952 - acc: 0.8627 - val_loss: 1.4428 - val_acc: 0.6656\n",
      "Epoch 178/200\n"
     ]
    },
    {
     "name": "stdout",
     "output_type": "stream",
     "text": [
      "898/898 [==============================] - 258s 287ms/step - loss: 0.3902 - acc: 0.8669 - val_loss: 1.0691 - val_acc: 0.6670\n",
      "Epoch 179/200\n",
      "898/898 [==============================] - 258s 287ms/step - loss: 0.3998 - acc: 0.8598 - val_loss: 1.4435 - val_acc: 0.6690\n",
      "Epoch 180/200\n",
      "898/898 [==============================] - 257s 287ms/step - loss: 0.3926 - acc: 0.8639 - val_loss: 1.0691 - val_acc: 0.6693\n",
      "Epoch 181/200\n",
      "898/898 [==============================] - 258s 287ms/step - loss: 0.3958 - acc: 0.8619 - val_loss: 1.0691 - val_acc: 0.6643\n",
      "Epoch 182/200\n",
      "898/898 [==============================] - 258s 287ms/step - loss: 0.3950 - acc: 0.8628 - val_loss: 1.0580 - val_acc: 0.6701\n",
      "Epoch 183/200\n",
      "898/898 [==============================] - 257s 287ms/step - loss: 0.3988 - acc: 0.8621 - val_loss: 1.0587 - val_acc: 0.6656\n",
      "Epoch 184/200\n",
      "898/898 [==============================] - 258s 287ms/step - loss: 0.3967 - acc: 0.8600 - val_loss: 1.0580 - val_acc: 0.6665\n",
      "Epoch 185/200\n",
      "898/898 [==============================] - 258s 287ms/step - loss: 0.3925 - acc: 0.8653 - val_loss: 1.4324 - val_acc: 0.6684\n",
      "Epoch 186/200\n",
      "898/898 [==============================] - 257s 287ms/step - loss: 0.3958 - acc: 0.8637 - val_loss: 1.4354 - val_acc: 0.6690\n",
      "Epoch 187/200\n",
      "898/898 [==============================] - 258s 287ms/step - loss: 0.3958 - acc: 0.8629 - val_loss: 1.0581 - val_acc: 0.6679\n",
      "Epoch 188/200\n",
      "898/898 [==============================] - 258s 287ms/step - loss: 0.3934 - acc: 0.8639 - val_loss: 1.0625 - val_acc: 0.6656\n",
      "Epoch 189/200\n",
      "898/898 [==============================] - 258s 287ms/step - loss: 0.3920 - acc: 0.8658 - val_loss: 1.0691 - val_acc: 0.6687\n",
      "Epoch 190/200\n",
      "898/898 [==============================] - 258s 287ms/step - loss: 0.4001 - acc: 0.8627 - val_loss: 1.0580 - val_acc: 0.6640\n",
      "Epoch 191/200\n",
      "898/898 [==============================] - 258s 287ms/step - loss: 0.3966 - acc: 0.8615 - val_loss: 1.0587 - val_acc: 0.6676\n",
      "Epoch 192/200\n",
      "898/898 [==============================] - 258s 287ms/step - loss: 0.3942 - acc: 0.8640 - val_loss: 1.0513 - val_acc: 0.6640\n",
      "Epoch 193/200\n",
      "898/898 [==============================] - 258s 287ms/step - loss: 0.3916 - acc: 0.8643 - val_loss: 1.0691 - val_acc: 0.6617\n",
      "Epoch 194/200\n",
      "898/898 [==============================] - 258s 287ms/step - loss: 0.3933 - acc: 0.8637 - val_loss: 1.0691 - val_acc: 0.6662\n",
      "Epoch 195/200\n",
      "898/898 [==============================] - 257s 287ms/step - loss: 0.3948 - acc: 0.8611 - val_loss: 1.4355 - val_acc: 0.6648\n",
      "Epoch 196/200\n",
      "898/898 [==============================] - 258s 287ms/step - loss: 0.3990 - acc: 0.8595 - val_loss: 1.0624 - val_acc: 0.6640\n",
      "Epoch 197/200\n",
      "898/898 [==============================] - 258s 287ms/step - loss: 0.3989 - acc: 0.8611 - val_loss: 1.4250 - val_acc: 0.6654\n",
      "Epoch 198/200\n",
      "898/898 [==============================] - 258s 287ms/step - loss: 0.3929 - acc: 0.8659 - val_loss: 1.0691 - val_acc: 0.6673\n",
      "Epoch 199/200\n",
      "898/898 [==============================] - 258s 287ms/step - loss: 0.3937 - acc: 0.8638 - val_loss: 1.0587 - val_acc: 0.6659\n",
      "Epoch 200/200\n",
      "898/898 [==============================] - 258s 287ms/step - loss: 0.3947 - acc: 0.8609 - val_loss: 1.4428 - val_acc: 0.6626\n"
     ]
    }
   ],
   "source": [
    "history = model.fit_generator(\n",
    "    train_generator,\n",
    "    epochs=num_epochs,\n",
    "    validation_data=val_generator,\n",
    "    verbose=1,\n",
    "    callbacks=callbacks_list\n",
    ")\n",
    "\n",
    "model.save('../saves/vggFace.hdf5')"
   ]
  },
  {
   "cell_type": "markdown",
   "metadata": {},
   "source": [
    "Effettuiamo il **plot** delle metriche del modello."
   ]
  },
  {
   "cell_type": "code",
   "execution_count": 11,
   "metadata": {
    "collapsed": true
   },
   "outputs": [
    {
     "data": {
      "image/png": "[encoded data removed]",
      "text/plain": [
       "<Figure size 432x288 with 1 Axes>"
      ]
     },
     "metadata": {
      "needs_background": "light"
     },
     "output_type": "display_data"
    },
    {
     "data": {
      "image/png": "[encoded data removed]",
      "text/plain": [
       "<Figure size 432x288 with 1 Axes>"
      ]
     },
     "metadata": {
      "needs_background": "light"
     },
     "output_type": "display_data"
    }
   ],
   "source": [
    "acc = history.history['acc']\n",
    "val_acc = history.history['val_acc']\n",
    "loss = history.history['loss']\n",
    "val_loss = history.history['val_loss']\n",
    "\n",
    "epochs = range(len(acc))\n",
    "\n",
    "plt.plot(epochs, acc, 'b', label='Training acc')\n",
    "plt.plot(epochs, val_acc, 'r', label='Validation acc')\n",
    "plt.title('Training and validation accuracy')\n",
    "plt.legend()\n",
    "\n",
    "plt.figure()\n",
    "\n",
    "plt.plot(epochs, loss, 'b', label='Training loss')\n",
    "plt.plot(epochs, val_loss, 'r', label='Validation loss')\n",
    "plt.title('Training and validation loss')\n",
    "plt.legend()\n",
    "\n",
    "plt.show()"
   ]
  },
  {
   "cell_type": "markdown",
   "metadata": {},
   "source": [
    "# TEST"
   ]
  },
  {
   "cell_type": "code",
   "execution_count": 10,
   "metadata": {},
   "outputs": [],
   "source": [
    "import random\n",
    "from sklearn import metrics\n",
    "from sklearn.metrics import classification_report\n",
    "import seaborn as sns\n"
   ]
  },
  {
   "cell_type": "code",
   "execution_count": 13,
   "metadata": {},
   "outputs": [],
   "source": [
    "def show_confusion_matrix(validations, predictions, labels):\n",
    "\n",
    "    matrix = metrics.confusion_matrix(validations, predictions)\n",
    "    plt.figure(figsize=(6, 4))\n",
    "    sns.heatmap(matrix,\n",
    "                cmap='coolwarm',\n",
    "                linecolor='white',\n",
    "                linewidths=1,\n",
    "                xticklabels=labels,\n",
    "                yticklabels=labels,\n",
    "                annot=True,\n",
    "                fmt='d')\n",
    "    plt.title('Confusion Matrix')\n",
    "    plt.ylabel('True Label')\n",
    "    plt.xlabel('Predicted Label')\n",
    "    plt.show()"
   ]
  },
  {
   "cell_type": "code",
   "execution_count": 14,
   "metadata": {},
   "outputs": [],
   "source": [
    "test_folder = \"../Test\"\n",
    "IMAGE_SIZE = 224\n",
    "random.seed(3)\n",
    "test_batchsize = 1"
   ]
  },
  {
   "cell_type": "code",
   "execution_count": 15,
   "metadata": {},
   "outputs": [
    {
     "name": "stdout",
     "output_type": "stream",
     "text": [
      "WARNING:tensorflow:Large dropout rate: 0.7 (>0.5). In TensorFlow 2.x, dropout() uses dropout rate instead of keep_prob. Please ensure that this is intended.\n"
     ]
    }
   ],
   "source": [
    "model = load_model('../saves/vggface.hdf5')\n"
   ]
  },
  {
   "cell_type": "code",
   "execution_count": 16,
   "metadata": {},
   "outputs": [
    {
     "name": "stdout",
     "output_type": "stream",
     "text": [
      "Found 3589 images belonging to 7 classes.\n"
     ]
    }
   ],
   "source": [
    "test_datagen = ImageDataGenerator(preprocessing_function=preprocess_input)\n",
    "test_generator = test_datagen.flow_from_directory(\n",
    "        test_folder,\n",
    "        target_size=(IMAGE_SIZE, IMAGE_SIZE),\n",
    "        batch_size=test_batchsize,\n",
    "        class_mode='categorical',\n",
    "        shuffle=False)"
   ]
  },
  {
   "cell_type": "code",
   "execution_count": 17,
   "metadata": {},
   "outputs": [],
   "source": [
    "ground_truth = test_generator.classes\n",
    "label2index = test_generator.class_indices\n",
    "idx2label = dict((v, k) for k, v in label2index.items())"
   ]
  },
  {
   "cell_type": "code",
   "execution_count": 18,
   "metadata": {},
   "outputs": [
    {
     "name": "stdout",
     "output_type": "stream",
     "text": [
      "3589/3589 [==============================] - 63s 18ms/step\n"
     ]
    }
   ],
   "source": [
    "predictions = model.predict_generator(test_generator,\n",
    "                      steps=test_generator.samples / test_generator.batch_size,\n",
    "                      verbose=1)\n",
    "predicted_classes = np.argmax(predictions, axis=1)"
   ]
  },
  {
   "cell_type": "code",
   "execution_count": 19,
   "metadata": {
    "collapsed": true
   },
   "outputs": [
    {
     "name": "stdout",
     "output_type": "stream",
     "text": [
      "No of errors = 1168/3589\n"
     ]
    },
    {
     "data": {
      "image/png": "[encoded data removed]",
      "text/plain": [
       "<Figure size 432x288 with 2 Axes>"
      ]
     },
     "metadata": {
      "needs_background": "light"
     },
     "output_type": "display_data"
    },
    {
     "name": "stdout",
     "output_type": "stream",
     "text": [
      "              precision    recall  f1-score   support\n",
      "\n",
      "           0       0.63      0.65      0.64       478\n",
      "           1       0.65      0.73      0.69        49\n",
      "           2       0.49      0.50      0.49       516\n",
      "           3       0.86      0.84      0.85       897\n",
      "           4       0.63      0.67      0.65       595\n",
      "           5       0.57      0.54      0.55       621\n",
      "           6       0.80      0.76      0.78       433\n",
      "\n",
      "    accuracy                           0.67      3589\n",
      "   macro avg       0.66      0.67      0.67      3589\n",
      "weighted avg       0.68      0.67      0.68      3589\n",
      "\n"
     ]
    }
   ],
   "source": [
    "errors = np.where(predicted_classes != ground_truth)[0]\n",
    "print(\"No of errors = {}/{}\".format(len(errors), test_generator.samples))\n",
    "labels = [\"angry\", \"disgust\", \"fear\", \"happy\", \"normal\", \"sad\", \"surprise\"]\n",
    "show_confusion_matrix(predicted_classes, ground_truth, labels)\n",
    "print(classification_report(predicted_classes, ground_truth))"
   ]
  },
  {
   "cell_type": "markdown",
   "metadata": {},
   "source": [
    "# Fase Sparse"
   ]
  },
  {
   "cell_type": "code",
   "execution_count": 9,
   "metadata": {},
   "outputs": [],
   "source": [
    "from keras.layers import Input\n",
    "from keras.models import Sequential"
   ]
  },
  {
   "cell_type": "code",
   "execution_count": 4,
   "metadata": {},
   "outputs": [
    {
     "name": "stdout",
     "output_type": "stream",
     "text": [
      "WARNING:tensorflow:Large dropout rate: 0.7 (>0.5). In TensorFlow 2.x, dropout() uses dropout rate instead of keep_prob. Please ensure that this is intended.\n"
     ]
    }
   ],
   "source": [
    "model = load_model('../saves/vggface.hdf5')"
   ]
  },
  {
   "cell_type": "code",
   "execution_count": 5,
   "metadata": {},
   "outputs": [],
   "source": [
    "class Sparse(Constraint):\n",
    "    def __init__(self, mask):\n",
    "        self.mask = K.cast_to_floatx(mask)\n",
    "    \n",
    "    def __call__(self,x):\n",
    "        return self.mask * x\n",
    "    \n",
    "    def get_config(self):\n",
    "        return {'mask': self.mask}"
   ]
  },
  {
   "cell_type": "code",
   "execution_count": 6,
   "metadata": {},
   "outputs": [],
   "source": [
    "def create_sparsity_masks(model,sparsity):\n",
    "    weights_list = model.get_weights()\n",
    "    masks = []\n",
    "    for weights in weights_list:\n",
    "        #We can ignore biases\n",
    "        if len(weights.shape) > 1:\n",
    "            weights_abs = np.abs(weights)\n",
    "            masks.append((weights_abs>np.percentile(weights_abs,sparsity))*1.)\n",
    "    return masks"
   ]
  },
  {
   "cell_type": "code",
   "execution_count": 7,
   "metadata": {},
   "outputs": [],
   "source": [
    "masks = create_sparsity_masks(model,60)"
   ]
  },
  {
   "cell_type": "code",
   "execution_count": 8,
   "metadata": {
    "collapsed": true
   },
   "outputs": [
    {
     "name": "stdout",
     "output_type": "stream",
     "text": [
      "WARNING:tensorflow:Large dropout rate: 0.7 (>0.5). In TensorFlow 2.x, dropout() uses dropout rate instead of keep_prob. Please ensure that this is intended.\n",
      "Model: \"model_1\"\n",
      "_________________________________________________________________\n",
      "Layer (type)                 Output Shape              Param #   \n",
      "=================================================================\n",
      "input_1 (InputLayer)         (None, 224, 224, 3)       0         \n",
      "_________________________________________________________________\n",
      "conv1_1 (Conv2D)             (None, 224, 224, 64)      1792      \n",
      "_________________________________________________________________\n",
      "conv1_2 (Conv2D)             (None, 224, 224, 64)      36928     \n",
      "_________________________________________________________________\n",
      "pool1 (MaxPooling2D)         (None, 112, 112, 64)      0         \n",
      "_________________________________________________________________\n",
      "conv2_1 (Conv2D)             (None, 112, 112, 128)     73856     \n",
      "_________________________________________________________________\n",
      "conv2_2 (Conv2D)             (None, 112, 112, 128)     147584    \n",
      "_________________________________________________________________\n",
      "pool2 (MaxPooling2D)         (None, 56, 56, 128)       0         \n",
      "_________________________________________________________________\n",
      "conv3_1 (Conv2D)             (None, 56, 56, 256)       295168    \n",
      "_________________________________________________________________\n",
      "conv3_2 (Conv2D)             (None, 56, 56, 256)       590080    \n",
      "_________________________________________________________________\n",
      "conv3_3 (Conv2D)             (None, 56, 56, 256)       590080    \n",
      "_________________________________________________________________\n",
      "pool3 (MaxPooling2D)         (None, 28, 28, 256)       0         \n",
      "_________________________________________________________________\n",
      "conv4_1 (Conv2D)             (None, 28, 28, 512)       1180160   \n",
      "_________________________________________________________________\n",
      "conv4_2 (Conv2D)             (None, 28, 28, 512)       2359808   \n",
      "_________________________________________________________________\n",
      "conv4_3 (Conv2D)             (None, 28, 28, 512)       2359808   \n",
      "_________________________________________________________________\n",
      "pool4 (MaxPooling2D)         (None, 14, 14, 512)       0         \n",
      "_________________________________________________________________\n",
      "conv5_1 (Conv2D)             (None, 14, 14, 512)       2359808   \n",
      "_________________________________________________________________\n",
      "conv5_2 (Conv2D)             (None, 14, 14, 512)       2359808   \n",
      "_________________________________________________________________\n",
      "conv5_3 (Conv2D)             (None, 14, 14, 512)       2359808   \n",
      "_________________________________________________________________\n",
      "pool5 (MaxPooling2D)         (None, 7, 7, 512)         0         \n",
      "_________________________________________________________________\n",
      "flatten (Flatten)            (None, 25088)             0         \n",
      "_________________________________________________________________\n",
      "fc6 (Dense)                  (None, 4096)              102764544 \n",
      "_________________________________________________________________\n",
      "fc6/relu (Activation)        (None, 4096)              0         \n",
      "_________________________________________________________________\n",
      "Dropout (Dropout)            (None, 4096)              0         \n",
      "_________________________________________________________________\n",
      "fc7 (Dense)                  (None, 4096)              16781312  \n",
      "_________________________________________________________________\n",
      "fc7/relu (Activation)        (None, 4096)              0         \n",
      "_________________________________________________________________\n",
      "dense_1 (Dense)              (None, 7)                 28679     \n",
      "=================================================================\n",
      "Total params: 134,289,223\n",
      "Trainable params: 119,574,535\n",
      "Non-trainable params: 14,714,688\n",
      "_________________________________________________________________\n"
     ]
    }
   ],
   "source": [
    "input_ = Input(shape=(224, 224, 3))\n",
    "\n",
    "x = Conv2D(64, (3, 3), activation='relu', padding='same', name='conv1_1', kernel_constraint=Sparse(masks[0]))(input_)\n",
    "x = Conv2D(64, (3, 3), activation='relu', padding='same', name='conv1_2', kernel_constraint=Sparse(masks[1]))(x)\n",
    "x = MaxPooling2D((2, 2), strides=(2, 2), name='pool1')(x)\n",
    "\n",
    "x = Conv2D(128, (3, 3), activation='relu', padding='same', name='conv2_1', kernel_constraint=Sparse(masks[2]))(x)\n",
    "x = Conv2D(128, (3, 3), activation='relu', padding='same', name='conv2_2', kernel_constraint=Sparse(masks[3]))(x)\n",
    "x = MaxPooling2D((2, 2), strides=(2, 2), name='pool2')(x)\n",
    "\n",
    "x = Conv2D(256, (3, 3), activation='relu', padding='same', name='conv3_1', kernel_constraint=Sparse(masks[4]))(x)\n",
    "x = Conv2D(256, (3, 3), activation='relu', padding='same', name='conv3_2', kernel_constraint=Sparse(masks[5]))(x)\n",
    "x = Conv2D(256, (3, 3), activation='relu', padding='same', name='conv3_3', kernel_constraint=Sparse(masks[6]))(x)\n",
    "x = MaxPooling2D((2, 2), strides=(2, 2), name='pool3')(x)\n",
    "\n",
    "x = Conv2D(512, (3, 3), activation='relu', padding='same', name='conv4_1', kernel_constraint=Sparse(masks[7]))(x)\n",
    "x = Conv2D(512, (3, 3), activation='relu', padding='same', name='conv4_2', kernel_constraint=Sparse(masks[8]))(x)\n",
    "x = Conv2D(512, (3, 3), activation='relu', padding='same', name='conv4_3', kernel_constraint=Sparse(masks[9]))(x)\n",
    "x = MaxPooling2D((2, 2), strides=(2, 2), name='pool4')(x)\n",
    "\n",
    "x = Conv2D(512, (3, 3), activation='relu', padding='same', name='conv5_1', kernel_constraint=Sparse(masks[10]))(x)\n",
    "x = Conv2D(512, (3, 3), activation='relu', padding='same', name='conv5_2', kernel_constraint=Sparse(masks[11]))(x)\n",
    "x = Conv2D(512, (3, 3), activation='relu', padding='same', name='conv5_3', kernel_constraint=Sparse(masks[12]))(x)\n",
    "x = MaxPooling2D((2, 2), strides=(2, 2), name='pool5')(x)\n",
    "\n",
    "x = Flatten(name='flatten')(x)\n",
    "x = Dense(4096, name='fc6', kernel_constraint=Sparse(masks[13]))(x)\n",
    "x = Activation('relu', name='fc6/relu')(x)\n",
    "x = Dropout(0.7, name = 'Dropout')(x)\n",
    "x = Dense(4096, name='fc7', kernel_constraint=Sparse(masks[14]))(x)\n",
    "x = Activation('relu', name='fc7/relu')(x)\n",
    "x = Dense(7, activation = 'softmax', kernel_constraint=Sparse(masks[15]))(x)\n",
    "\n",
    "sparse_model = Model(input_, x)\n",
    "layers = [l for l in sparse_model.layers]\n",
    "for i in range(0, 18):\n",
    "     layers[i].trainable = False\n",
    "        \n",
    "sparse_model.summary()\n",
    "#Get weights from densely trained model\n",
    "sparse_model.set_weights(model.get_weights())"
   ]
  },
  {
   "cell_type": "code",
   "execution_count": 9,
   "metadata": {},
   "outputs": [],
   "source": [
    "train_folder = \"C:/Users/nico9/Desktop/FaceDetection/Train\"\n",
    "val_folder = \"C:/Users/nico9/Desktop/FaceDetection/Val\"\n",
    "\n",
    "train_datagen = ImageDataGenerator(preprocessing_function=preprocess_input, horizontal_flip=True)\n",
    "val_datagen = ImageDataGenerator(preprocessing_function=preprocess_input, horizontal_flip=True)"
   ]
  },
  {
   "cell_type": "code",
   "execution_count": 10,
   "metadata": {},
   "outputs": [
    {
     "name": "stdout",
     "output_type": "stream",
     "text": [
      "Found 28709 images belonging to 7 classes.\n",
      "Found 3589 images belonging to 7 classes.\n"
     ]
    }
   ],
   "source": [
    "train_batchsize = 32\n",
    "val_batchsize = 8\n",
    "IMAGE_SIZE = 224\n",
    "train_generator = train_datagen.flow_from_directory(\n",
    "        train_folder,\n",
    "        target_size=(IMAGE_SIZE, IMAGE_SIZE),\n",
    "        batch_size=train_batchsize,\n",
    "        class_mode=\"categorical\"\n",
    ")\n",
    "\n",
    "val_generator = val_datagen.flow_from_directory(\n",
    "        val_folder,\n",
    "        target_size=(IMAGE_SIZE, IMAGE_SIZE),\n",
    "        batch_size=val_batchsize,\n",
    "        class_mode=\"categorical\",\n",
    "        shuffle=False\n",
    ")"
   ]
  },
  {
   "cell_type": "code",
   "execution_count": 11,
   "metadata": {},
   "outputs": [],
   "source": [
    "reduce_lr = ReduceLROnPlateau(monitor = 'val_loss', factor = 0.1 , patience = 10)\n",
    "\n",
    "csv_logger = CSVLogger('sparse_training.log', separator=',', append=False)\n",
    "callbacks_list = [reduce_lr, csv_logger]"
   ]
  },
  {
   "cell_type": "code",
   "execution_count": 10,
   "metadata": {},
   "outputs": [],
   "source": [
    "log = pd.read_csv('../notebook/training.log')\n",
    "dim = len(log['lr'])\n",
    "lr = log['lr']"
   ]
  },
  {
   "cell_type": "code",
   "execution_count": 9,
   "metadata": {},
   "outputs": [
    {
     "ename": "NameError",
     "evalue": "name 'sparse_model' is not defined",
     "output_type": "error",
     "traceback": [
      "\u001b[1;31m---------------------------------------------------------------------------\u001b[0m",
      "\u001b[1;31mNameError\u001b[0m                                 Traceback (most recent call last)",
      "\u001b[1;32m<ipython-input-9-9ecf227d6372>\u001b[0m in \u001b[0;36m<module>\u001b[1;34m\u001b[0m\n\u001b[0;32m      2\u001b[0m \u001b[0mlearning_rate\u001b[0m \u001b[1;33m=\u001b[0m \u001b[0mlr\u001b[0m\u001b[1;33m[\u001b[0m\u001b[0mdim\u001b[0m\u001b[1;33m-\u001b[0m\u001b[1;36m1\u001b[0m\u001b[1;33m]\u001b[0m\u001b[1;33m\u001b[0m\u001b[1;33m\u001b[0m\u001b[0m\n\u001b[0;32m      3\u001b[0m \u001b[0msgd\u001b[0m \u001b[1;33m=\u001b[0m \u001b[0mSGD\u001b[0m\u001b[1;33m(\u001b[0m\u001b[0mlr\u001b[0m\u001b[1;33m=\u001b[0m\u001b[0mlearning_rate\u001b[0m\u001b[1;33m,\u001b[0m \u001b[0mmomentum\u001b[0m \u001b[1;33m=\u001b[0m \u001b[1;36m0.9\u001b[0m\u001b[1;33m)\u001b[0m\u001b[1;33m\u001b[0m\u001b[1;33m\u001b[0m\u001b[0m\n\u001b[1;32m----> 4\u001b[1;33m \u001b[0msparse_model\u001b[0m\u001b[1;33m.\u001b[0m\u001b[0mcompile\u001b[0m\u001b[1;33m(\u001b[0m\u001b[0mloss\u001b[0m\u001b[1;33m=\u001b[0m\u001b[1;34m\"categorical_crossentropy\"\u001b[0m\u001b[1;33m,\u001b[0m \u001b[0moptimizer\u001b[0m\u001b[1;33m=\u001b[0m\u001b[0msgd\u001b[0m\u001b[1;33m,\u001b[0m \u001b[0mmetrics\u001b[0m\u001b[1;33m=\u001b[0m\u001b[1;33m[\u001b[0m\u001b[1;34m'acc'\u001b[0m\u001b[1;33m]\u001b[0m\u001b[1;33m)\u001b[0m\u001b[1;33m\u001b[0m\u001b[1;33m\u001b[0m\u001b[0m\n\u001b[0m",
      "\u001b[1;31mNameError\u001b[0m: name 'sparse_model' is not defined"
     ]
    }
   ],
   "source": [
    "num_epochs = 50\n",
    "learning_rate = lr[dim-1]\n",
    "sgd = SGD(lr=learning_rate, momentum = 0.9)\n",
    "sparse_model.compile(loss=\"categorical_crossentropy\", optimizer=sgd, metrics=['acc'])"
   ]
  },
  {
   "cell_type": "code",
   "execution_count": 14,
   "metadata": {
    "collapsed": true
   },
   "outputs": [
    {
     "name": "stdout",
     "output_type": "stream",
     "text": [
      "Epoch 1/50\n",
      "898/898 [==============================] - 294s 327ms/step - loss: 0.5269 - acc: 0.8165 - val_loss: 1.1535 - val_acc: 0.6567\n",
      "Epoch 2/50\n",
      "898/898 [==============================] - 265s 296ms/step - loss: 0.5260 - acc: 0.8155 - val_loss: 1.1687 - val_acc: 0.6459\n",
      "Epoch 3/50\n",
      "898/898 [==============================] - 265s 296ms/step - loss: 0.5249 - acc: 0.8167 - val_loss: 0.9069 - val_acc: 0.6503\n",
      "Epoch 4/50\n",
      "898/898 [==============================] - 265s 296ms/step - loss: 0.5311 - acc: 0.8115 - val_loss: 0.9105 - val_acc: 0.6514\n",
      "Epoch 5/50\n",
      "898/898 [==============================] - 266s 296ms/step - loss: 0.5199 - acc: 0.8181 - val_loss: 0.9072 - val_acc: 0.6514\n",
      "Epoch 6/50\n",
      "898/898 [==============================] - 266s 296ms/step - loss: 0.5211 - acc: 0.8170 - val_loss: 0.9107 - val_acc: 0.6486\n",
      "Epoch 7/50\n",
      "898/898 [==============================] - 265s 295ms/step - loss: 0.5251 - acc: 0.8156 - val_loss: 0.9072 - val_acc: 0.6542\n",
      "Epoch 8/50\n",
      "898/898 [==============================] - 265s 295ms/step - loss: 0.5258 - acc: 0.8136 - val_loss: 1.1568 - val_acc: 0.6514\n",
      "Epoch 9/50\n",
      "898/898 [==============================] - 265s 296ms/step - loss: 0.5267 - acc: 0.8124 - val_loss: 1.1689 - val_acc: 0.6542\n",
      "Epoch 10/50\n",
      "898/898 [==============================] - 266s 296ms/step - loss: 0.5253 - acc: 0.8161 - val_loss: 0.9226 - val_acc: 0.6450\n",
      "Epoch 11/50\n",
      "898/898 [==============================] - 265s 296ms/step - loss: 0.5218 - acc: 0.8173 - val_loss: 1.1497 - val_acc: 0.6539\n",
      "Epoch 12/50\n",
      "898/898 [==============================] - 265s 295ms/step - loss: 0.5244 - acc: 0.8161 - val_loss: 1.1651 - val_acc: 0.6537\n",
      "Epoch 13/50\n",
      "898/898 [==============================] - 265s 296ms/step - loss: 0.5253 - acc: 0.8165 - val_loss: 1.1530 - val_acc: 0.6512\n",
      "Epoch 14/50\n",
      "898/898 [==============================] - 265s 295ms/step - loss: 0.5294 - acc: 0.8147 - val_loss: 0.9107 - val_acc: 0.6514\n",
      "Epoch 15/50\n",
      "898/898 [==============================] - 266s 296ms/step - loss: 0.5254 - acc: 0.8147 - val_loss: 1.1568 - val_acc: 0.6590\n",
      "Epoch 16/50\n",
      "898/898 [==============================] - 265s 296ms/step - loss: 0.5306 - acc: 0.8136 - val_loss: 1.1530 - val_acc: 0.6492\n",
      "Epoch 17/50\n",
      "898/898 [==============================] - 265s 295ms/step - loss: 0.5239 - acc: 0.8173 - val_loss: 0.9188 - val_acc: 0.6514\n",
      "Epoch 18/50\n",
      "898/898 [==============================] - 265s 295ms/step - loss: 0.5282 - acc: 0.8154 - val_loss: 0.9223 - val_acc: 0.6512\n",
      "Epoch 19/50\n",
      "898/898 [==============================] - 265s 295ms/step - loss: 0.5279 - acc: 0.8144 - val_loss: 1.1684 - val_acc: 0.6525\n",
      "Epoch 20/50\n",
      "898/898 [==============================] - 265s 295ms/step - loss: 0.5241 - acc: 0.8154 - val_loss: 0.9067 - val_acc: 0.6509\n",
      "Epoch 21/50\n",
      "898/898 [==============================] - 267s 297ms/step - loss: 0.5252 - acc: 0.8155 - val_loss: 0.9072 - val_acc: 0.6553\n",
      "Epoch 22/50\n",
      "898/898 [==============================] - 265s 295ms/step - loss: 0.5284 - acc: 0.8124 - val_loss: 1.1533 - val_acc: 0.6520\n",
      "Epoch 23/50\n",
      "898/898 [==============================] - 265s 295ms/step - loss: 0.5261 - acc: 0.8128 - val_loss: 1.1531 - val_acc: 0.6523\n",
      "Epoch 24/50\n",
      "898/898 [==============================] - 265s 295ms/step - loss: 0.5240 - acc: 0.8167 - val_loss: 0.9186 - val_acc: 0.6551\n",
      "Epoch 25/50\n",
      "898/898 [==============================] - 265s 295ms/step - loss: 0.5223 - acc: 0.8174 - val_loss: 1.1687 - val_acc: 0.6539\n",
      "Epoch 26/50\n",
      "898/898 [==============================] - 265s 295ms/step - loss: 0.5226 - acc: 0.8166 - val_loss: 1.1568 - val_acc: 0.6534\n",
      "Epoch 27/50\n",
      "898/898 [==============================] - 265s 295ms/step - loss: 0.5279 - acc: 0.8177 - val_loss: 0.9261 - val_acc: 0.6475\n",
      "Epoch 28/50\n",
      "898/898 [==============================] - 265s 295ms/step - loss: 0.5238 - acc: 0.8161 - val_loss: 0.9188 - val_acc: 0.6517\n",
      "Epoch 29/50\n",
      "898/898 [==============================] - 265s 295ms/step - loss: 0.5270 - acc: 0.8142 - val_loss: 0.9186 - val_acc: 0.6489\n",
      "Epoch 30/50\n",
      "898/898 [==============================] - 265s 295ms/step - loss: 0.5220 - acc: 0.8180 - val_loss: 0.9070 - val_acc: 0.6509\n",
      "Epoch 31/50\n",
      "898/898 [==============================] - 265s 295ms/step - loss: 0.5279 - acc: 0.8127 - val_loss: 1.1569 - val_acc: 0.6512\n",
      "Epoch 32/50\n",
      "898/898 [==============================] - 265s 295ms/step - loss: 0.5179 - acc: 0.8200 - val_loss: 1.1495 - val_acc: 0.6528\n",
      "Epoch 33/50\n",
      "898/898 [==============================] - 265s 295ms/step - loss: 0.5239 - acc: 0.8147 - val_loss: 0.9070 - val_acc: 0.6492\n",
      "Epoch 34/50\n",
      "898/898 [==============================] - 265s 295ms/step - loss: 0.5219 - acc: 0.8167 - val_loss: 0.9221 - val_acc: 0.6503\n",
      "Epoch 35/50\n",
      "898/898 [==============================] - 265s 295ms/step - loss: 0.5253 - acc: 0.8169 - val_loss: 1.1651 - val_acc: 0.6553\n",
      "Epoch 36/50\n",
      "898/898 [==============================] - 265s 295ms/step - loss: 0.5269 - acc: 0.8139 - val_loss: 0.9259 - val_acc: 0.6553\n",
      "Epoch 37/50\n",
      "898/898 [==============================] - 265s 295ms/step - loss: 0.5275 - acc: 0.8141 - val_loss: 1.1568 - val_acc: 0.6473\n",
      "Epoch 38/50\n",
      "898/898 [==============================] - 265s 295ms/step - loss: 0.5268 - acc: 0.8159 - val_loss: 0.9072 - val_acc: 0.6534\n",
      "Epoch 39/50\n",
      "898/898 [==============================] - 265s 295ms/step - loss: 0.5264 - acc: 0.8158 - val_loss: 0.9105 - val_acc: 0.6545\n",
      "Epoch 40/50\n",
      "898/898 [==============================] - 265s 295ms/step - loss: 0.5244 - acc: 0.8162 - val_loss: 1.1684 - val_acc: 0.6495\n",
      "Epoch 41/50\n",
      "898/898 [==============================] - 265s 295ms/step - loss: 0.5260 - acc: 0.8148 - val_loss: 1.1689 - val_acc: 0.6542\n",
      "Epoch 42/50\n",
      "898/898 [==============================] - 265s 295ms/step - loss: 0.5263 - acc: 0.8130 - val_loss: 0.9069 - val_acc: 0.6509\n",
      "Epoch 43/50\n",
      "898/898 [==============================] - 265s 295ms/step - loss: 0.5260 - acc: 0.8140 - val_loss: 1.1686 - val_acc: 0.6486\n",
      "Epoch 44/50\n",
      "898/898 [==============================] - 265s 295ms/step - loss: 0.5280 - acc: 0.8151 - val_loss: 1.1724 - val_acc: 0.6517\n",
      "Epoch 45/50\n",
      "898/898 [==============================] - 265s 295ms/step - loss: 0.5292 - acc: 0.8121 - val_loss: 1.1651 - val_acc: 0.6534\n",
      "Epoch 46/50\n",
      "898/898 [==============================] - 265s 295ms/step - loss: 0.5290 - acc: 0.8124 - val_loss: 1.1649 - val_acc: 0.6523\n",
      "Epoch 47/50\n",
      "898/898 [==============================] - 265s 295ms/step - loss: 0.5215 - acc: 0.8174 - val_loss: 1.1533 - val_acc: 0.6489\n",
      "Epoch 48/50\n",
      "898/898 [==============================] - 265s 295ms/step - loss: 0.5251 - acc: 0.8160 - val_loss: 1.1689 - val_acc: 0.6523\n",
      "Epoch 49/50\n",
      "898/898 [==============================] - 265s 295ms/step - loss: 0.5265 - acc: 0.8140 - val_loss: 1.1533 - val_acc: 0.6503\n",
      "Epoch 50/50\n",
      "898/898 [==============================] - 265s 295ms/step - loss: 0.5266 - acc: 0.8132 - val_loss: 0.9261 - val_acc: 0.6528\n"
     ]
    }
   ],
   "source": [
    "history = sparse_model.fit_generator(\n",
    "    train_generator,\n",
    "    epochs=num_epochs,\n",
    "    validation_data=val_generator,\n",
    "    verbose=1,\n",
    "    callbacks=callbacks_list\n",
    ")\n",
    "model.save('../saves/sparse_model.hdf5')"
   ]
  },
  {
   "cell_type": "markdown",
   "metadata": {},
   "source": [
    "# Plot fase SPARSE"
   ]
  },
  {
   "cell_type": "code",
   "execution_count": 15,
   "metadata": {
    "collapsed": true
   },
   "outputs": [
    {
     "data": {
      "image/png": "[encoded data removed]",
      "text/plain": [
       "<Figure size 432x288 with 1 Axes>"
      ]
     },
     "metadata": {
      "needs_background": "light"
     },
     "output_type": "display_data"
    },
    {
     "data": {
      "image/png": "[encoded data removed]",
      "text/plain": [
       "<Figure size 432x288 with 1 Axes>"
      ]
     },
     "metadata": {
      "needs_background": "light"
     },
     "output_type": "display_data"
    }
   ],
   "source": [
    "acc = history.history['acc']\n",
    "val_acc = history.history['val_acc']\n",
    "loss = history.history['loss']\n",
    "val_loss = history.history['val_loss']\n",
    "\n",
    "epochs = range(len(acc))\n",
    "\n",
    "plt.plot(epochs, acc, 'b', label='Training acc')\n",
    "plt.plot(epochs, val_acc, 'r', label='Validation acc')\n",
    "plt.title('Training and validation accuracy')\n",
    "plt.legend()\n",
    "\n",
    "plt.figure()\n",
    "\n",
    "plt.plot(epochs, loss, 'b', label='Training loss')\n",
    "plt.plot(epochs, val_loss, 'r', label='Validation loss')\n",
    "plt.title('Training and validation loss')\n",
    "plt.legend()\n",
    "\n",
    "plt.show()"
   ]
  },
  {
   "cell_type": "markdown",
   "metadata": {},
   "source": [
    "# Test fase SPARSE"
   ]
  },
  {
   "cell_type": "code",
   "execution_count": 8,
   "metadata": {},
   "outputs": [],
   "source": [
    "import random\n",
    "from sklearn import metrics\n",
    "from sklearn.metrics import classification_report\n",
    "import seaborn as sns"
   ]
  },
  {
   "cell_type": "code",
   "execution_count": 3,
   "metadata": {},
   "outputs": [],
   "source": [
    "def show_confusion_matrix(validations, predictions, labels):\n",
    "\n",
    "    matrix = metrics.confusion_matrix(validations, predictions)\n",
    "    plt.figure(figsize=(6, 4))\n",
    "    sns.heatmap(matrix,\n",
    "                cmap='coolwarm',\n",
    "                linecolor='white',\n",
    "                linewidths=1,\n",
    "                xticklabels=labels,\n",
    "                yticklabels=labels,\n",
    "                annot=True,\n",
    "                fmt='d')\n",
    "    plt.title('Confusion Matrix')\n",
    "    plt.ylabel('True Label')\n",
    "    plt.xlabel('Predicted Label')\n",
    "    plt.show()"
   ]
  },
  {
   "cell_type": "code",
   "execution_count": 4,
   "metadata": {},
   "outputs": [],
   "source": [
    "test_folder = \"../Test\"\n",
    "IMAGE_SIZE = 224\n",
    "random.seed(3)\n",
    "test_batchsize = 1"
   ]
  },
  {
   "cell_type": "code",
   "execution_count": 5,
   "metadata": {},
   "outputs": [
    {
     "name": "stdout",
     "output_type": "stream",
     "text": [
      "WARNING:tensorflow:Large dropout rate: 0.7 (>0.5). In TensorFlow 2.x, dropout() uses dropout rate instead of keep_prob. Please ensure that this is intended.\n"
     ]
    }
   ],
   "source": [
    "model = load_model('../saves/sparse_model.hdf5')"
   ]
  },
  {
   "cell_type": "code",
   "execution_count": 6,
   "metadata": {},
   "outputs": [
    {
     "name": "stdout",
     "output_type": "stream",
     "text": [
      "Found 3589 images belonging to 7 classes.\n"
     ]
    }
   ],
   "source": [
    "test_datagen = ImageDataGenerator(preprocessing_function=preprocess_input)\n",
    "test_generator = test_datagen.flow_from_directory(\n",
    "        test_folder,\n",
    "        target_size=(IMAGE_SIZE, IMAGE_SIZE),\n",
    "        batch_size=test_batchsize,\n",
    "        class_mode='categorical',\n",
    "        shuffle=False)"
   ]
  },
  {
   "cell_type": "code",
   "execution_count": 7,
   "metadata": {},
   "outputs": [],
   "source": [
    "ground_truth = test_generator.classes\n",
    "label2index = test_generator.class_indices\n",
    "idx2label = dict((v, k) for k, v in label2index.items())"
   ]
  },
  {
   "cell_type": "code",
   "execution_count": 8,
   "metadata": {},
   "outputs": [
    {
     "name": "stdout",
     "output_type": "stream",
     "text": [
      "3589/3589 [==============================] - 66s 18ms/step\n"
     ]
    }
   ],
   "source": [
    "predictions = model.predict_generator(test_generator,\n",
    "                      steps=test_generator.samples / test_generator.batch_size,\n",
    "                      verbose=1)\n",
    "predicted_classes = np.argmax(predictions, axis=1)"
   ]
  },
  {
   "cell_type": "code",
   "execution_count": 9,
   "metadata": {
    "collapsed": true
   },
   "outputs": [
    {
     "name": "stdout",
     "output_type": "stream",
     "text": [
      "No of errors = 1168/3589\n"
     ]
    },
    {
     "data": {
      "image/png": "[encoded data removed]",
      "text/plain": [
       "<Figure size 432x288 with 2 Axes>"
      ]
     },
     "metadata": {
      "needs_background": "light"
     },
     "output_type": "display_data"
    },
    {
     "name": "stdout",
     "output_type": "stream",
     "text": [
      "              precision    recall  f1-score   support\n",
      "\n",
      "           0       0.63      0.65      0.64       478\n",
      "           1       0.65      0.73      0.69        49\n",
      "           2       0.49      0.50      0.49       516\n",
      "           3       0.86      0.84      0.85       897\n",
      "           4       0.63      0.67      0.65       595\n",
      "           5       0.57      0.54      0.55       621\n",
      "           6       0.80      0.76      0.78       433\n",
      "\n",
      "    accuracy                           0.67      3589\n",
      "   macro avg       0.66      0.67      0.67      3589\n",
      "weighted avg       0.68      0.67      0.68      3589\n",
      "\n"
     ]
    }
   ],
   "source": [
    "errors = np.where(predicted_classes != ground_truth)[0]\n",
    "print(\"No of errors = {}/{}\".format(len(errors), test_generator.samples))\n",
    "labels = [\"angry\", \"disgust\", \"fear\", \"happy\", \"normal\", \"sad\", \"surprise\"]\n",
    "show_confusion_matrix(predicted_classes, ground_truth, labels)\n",
    "print(classification_report(predicted_classes, ground_truth))"
   ]
  },
  {
   "cell_type": "markdown",
   "metadata": {},
   "source": [
    "# Fase Dense"
   ]
  },
  {
   "cell_type": "code",
   "execution_count": 16,
   "metadata": {},
   "outputs": [],
   "source": [
    "from keras.layers import Input\n",
    "from keras.models import Sequential"
   ]
  },
  {
   "cell_type": "code",
   "execution_count": 14,
   "metadata": {},
   "outputs": [
    {
     "name": "stdout",
     "output_type": "stream",
     "text": [
      "WARNING:tensorflow:Large dropout rate: 0.7 (>0.5). In TensorFlow 2.x, dropout() uses dropout rate instead of keep_prob. Please ensure that this is intended.\n"
     ]
    }
   ],
   "source": [
    "model = load_model('../saves/sparse_model.hdf5')"
   ]
  },
  {
   "cell_type": "code",
   "execution_count": 15,
   "metadata": {
    "collapsed": true
   },
   "outputs": [
    {
     "name": "stdout",
     "output_type": "stream",
     "text": [
      "WARNING:tensorflow:Large dropout rate: 0.7 (>0.5). In TensorFlow 2.x, dropout() uses dropout rate instead of keep_prob. Please ensure that this is intended.\n",
      "Model: \"model_1\"\n",
      "_________________________________________________________________\n",
      "Layer (type)                 Output Shape              Param #   \n",
      "=================================================================\n",
      "input_1 (InputLayer)         (None, 224, 224, 3)       0         \n",
      "_________________________________________________________________\n",
      "conv1_1 (Conv2D)             (None, 224, 224, 64)      1792      \n",
      "_________________________________________________________________\n",
      "conv1_2 (Conv2D)             (None, 224, 224, 64)      36928     \n",
      "_________________________________________________________________\n",
      "pool1 (MaxPooling2D)         (None, 112, 112, 64)      0         \n",
      "_________________________________________________________________\n",
      "conv2_1 (Conv2D)             (None, 112, 112, 128)     73856     \n",
      "_________________________________________________________________\n",
      "conv2_2 (Conv2D)             (None, 112, 112, 128)     147584    \n",
      "_________________________________________________________________\n",
      "pool2 (MaxPooling2D)         (None, 56, 56, 128)       0         \n",
      "_________________________________________________________________\n",
      "conv3_1 (Conv2D)             (None, 56, 56, 256)       295168    \n",
      "_________________________________________________________________\n",
      "conv3_2 (Conv2D)             (None, 56, 56, 256)       590080    \n",
      "_________________________________________________________________\n",
      "conv3_3 (Conv2D)             (None, 56, 56, 256)       590080    \n",
      "_________________________________________________________________\n",
      "pool3 (MaxPooling2D)         (None, 28, 28, 256)       0         \n",
      "_________________________________________________________________\n",
      "conv4_1 (Conv2D)             (None, 28, 28, 512)       1180160   \n",
      "_________________________________________________________________\n",
      "conv4_2 (Conv2D)             (None, 28, 28, 512)       2359808   \n",
      "_________________________________________________________________\n",
      "conv4_3 (Conv2D)             (None, 28, 28, 512)       2359808   \n",
      "_________________________________________________________________\n",
      "pool4 (MaxPooling2D)         (None, 14, 14, 512)       0         \n",
      "_________________________________________________________________\n",
      "conv5_1 (Conv2D)             (None, 14, 14, 512)       2359808   \n",
      "_________________________________________________________________\n",
      "conv5_2 (Conv2D)             (None, 14, 14, 512)       2359808   \n",
      "_________________________________________________________________\n",
      "conv5_3 (Conv2D)             (None, 14, 14, 512)       2359808   \n",
      "_________________________________________________________________\n",
      "pool5 (MaxPooling2D)         (None, 7, 7, 512)         0         \n",
      "_________________________________________________________________\n",
      "flatten (Flatten)            (None, 25088)             0         \n",
      "_________________________________________________________________\n",
      "fc6 (Dense)                  (None, 4096)              102764544 \n",
      "_________________________________________________________________\n",
      "fc6/relu (Activation)        (None, 4096)              0         \n",
      "_________________________________________________________________\n",
      "Dropout (Dropout)            (None, 4096)              0         \n",
      "_________________________________________________________________\n",
      "fc7 (Dense)                  (None, 4096)              16781312  \n",
      "_________________________________________________________________\n",
      "fc7/relu (Activation)        (None, 4096)              0         \n",
      "_________________________________________________________________\n",
      "dense_1 (Dense)              (None, 7)                 28679     \n",
      "=================================================================\n",
      "Total params: 134,289,223\n",
      "Trainable params: 119,574,535\n",
      "Non-trainable params: 14,714,688\n",
      "_________________________________________________________________\n"
     ]
    }
   ],
   "source": [
    "input_ = Input(shape=(224, 224, 3))\n",
    "\n",
    "x = Conv2D(64, (3, 3), activation='relu', padding='same', name='conv1_1')(input_)\n",
    "x = Conv2D(64, (3, 3), activation='relu', padding='same', name='conv1_2')(x)\n",
    "x = MaxPooling2D((2, 2), strides=(2, 2), name='pool1')(x)\n",
    "\n",
    "x = Conv2D(128, (3, 3), activation='relu', padding='same', name='conv2_1')(x)\n",
    "x = Conv2D(128, (3, 3), activation='relu', padding='same', name='conv2_2')(x)\n",
    "x = MaxPooling2D((2, 2), strides=(2, 2), name='pool2')(x)\n",
    "\n",
    "x = Conv2D(256, (3, 3), activation='relu', padding='same', name='conv3_1')(x)\n",
    "x = Conv2D(256, (3, 3), activation='relu', padding='same', name='conv3_2')(x)\n",
    "x = Conv2D(256, (3, 3), activation='relu', padding='same', name='conv3_3')(x)\n",
    "x = MaxPooling2D((2, 2), strides=(2, 2), name='pool3')(x)\n",
    "\n",
    "x = Conv2D(512, (3, 3), activation='relu', padding='same', name='conv4_1')(x)\n",
    "x = Conv2D(512, (3, 3), activation='relu', padding='same', name='conv4_2')(x)\n",
    "x = Conv2D(512, (3, 3), activation='relu', padding='same', name='conv4_3')(x)\n",
    "x = MaxPooling2D((2, 2), strides=(2, 2), name='pool4')(x)\n",
    "\n",
    "x = Conv2D(512, (3, 3), activation='relu', padding='same', name='conv5_1')(x)\n",
    "x = Conv2D(512, (3, 3), activation='relu', padding='same', name='conv5_2')(x)\n",
    "x = Conv2D(512, (3, 3), activation='relu', padding='same', name='conv5_3')(x)\n",
    "x = MaxPooling2D((2, 2), strides=(2, 2), name='pool5')(x)\n",
    "\n",
    "x = Flatten(name='flatten')(x)\n",
    "x = Dense(4096, name='fc6')(x)\n",
    "x = Activation('relu', name='fc6/relu')(x)\n",
    "x = Dropout(0.7, name = 'Dropout')(x)\n",
    "x = Dense(4096, name='fc7')(x)\n",
    "x = Activation('relu', name='fc7/relu')(x)\n",
    "x = Dense(7, activation = 'softmax')(x)\n",
    "\n",
    "redense_model = Model(input_, x)\n",
    "layers = [l for l in redense_model.layers]\n",
    "for i in range(0, 18):\n",
    "     layers[i].trainable = False\n",
    "        \n",
    "redense_model.summary()\n",
    "#Get weights from densely trained model\n",
    "redense_model.set_weights(model.get_weights())"
   ]
  },
  {
   "cell_type": "code",
   "execution_count": 16,
   "metadata": {},
   "outputs": [],
   "source": [
    "train_folder = \"C:/Users/nico9/Desktop/FaceDetection/Train\"\n",
    "val_folder = \"C:/Users/nico9/Desktop/FaceDetection/Val\"\n",
    "\n",
    "train_datagen = ImageDataGenerator(preprocessing_function=preprocess_input, horizontal_flip=True)\n",
    "val_datagen = ImageDataGenerator(preprocessing_function=preprocess_input, horizontal_flip=True)"
   ]
  },
  {
   "cell_type": "code",
   "execution_count": 17,
   "metadata": {},
   "outputs": [
    {
     "name": "stdout",
     "output_type": "stream",
     "text": [
      "Found 28709 images belonging to 7 classes.\n",
      "Found 3589 images belonging to 7 classes.\n"
     ]
    }
   ],
   "source": [
    "train_batchsize = 32\n",
    "val_batchsize = 8\n",
    "IMAGE_SIZE = 224\n",
    "train_generator = train_datagen.flow_from_directory(\n",
    "        train_folder,\n",
    "        target_size=(IMAGE_SIZE, IMAGE_SIZE),\n",
    "        batch_size=train_batchsize,\n",
    "        class_mode=\"categorical\"\n",
    ")\n",
    "\n",
    "val_generator = val_datagen.flow_from_directory(\n",
    "        val_folder,\n",
    "        target_size=(IMAGE_SIZE, IMAGE_SIZE),\n",
    "        batch_size=val_batchsize,\n",
    "        class_mode=\"categorical\",\n",
    "        shuffle=False\n",
    ")"
   ]
  },
  {
   "cell_type": "code",
   "execution_count": 18,
   "metadata": {},
   "outputs": [],
   "source": [
    "reduce_lr = ReduceLROnPlateau(monitor = 'val_loss', factor = 0.1 , patience = 10)\n",
    "\n",
    "csv_logger = CSVLogger('redense_training.log', separator=',', append=False)\n",
    "callbacks_list = [reduce_lr, csv_logger]"
   ]
  },
  {
   "cell_type": "code",
   "execution_count": null,
   "metadata": {},
   "outputs": [],
   "source": [
    "log = pd.read_csv('../notebook/sparse_training.log')\n",
    "dim = len(log['lr'])\n",
    "lr = log['lr']"
   ]
  },
  {
   "cell_type": "code",
   "execution_count": 19,
   "metadata": {},
   "outputs": [],
   "source": [
    "num_epochs = 50\n",
    "learning_rate = lr[dim-1]\n",
    "sgd = SGD(lr=learning_rate, momentum = 0.9)\n",
    "redense_model.compile(loss=\"categorical_crossentropy\", optimizer=sgd, metrics=['acc'])"
   ]
  },
  {
   "cell_type": "code",
   "execution_count": 20,
   "metadata": {
    "collapsed": true
   },
   "outputs": [
    {
     "name": "stdout",
     "output_type": "stream",
     "text": [
      "Epoch 1/50\n",
      "898/898 [==============================] - 261s 290ms/step - loss: 0.3962 - acc: 0.8643 - val_loss: 1.4243 - val_acc: 0.6687\n",
      "Epoch 2/50\n",
      "898/898 [==============================] - 258s 287ms/step - loss: 0.3939 - acc: 0.8643 - val_loss: 1.0618 - val_acc: 0.6654\n",
      "Epoch 3/50\n",
      "898/898 [==============================] - 258s 287ms/step - loss: 0.3999 - acc: 0.8603 - val_loss: 1.0513 - val_acc: 0.6670\n",
      "Epoch 4/50\n",
      "898/898 [==============================] - 258s 287ms/step - loss: 0.3915 - acc: 0.8653 - val_loss: 1.0618 - val_acc: 0.6637\n",
      "Epoch 5/50\n",
      "898/898 [==============================] - 258s 287ms/step - loss: 0.3947 - acc: 0.8633 - val_loss: 1.0580 - val_acc: 0.6676\n",
      "Epoch 6/50\n",
      "898/898 [==============================] - 258s 288ms/step - loss: 0.3961 - acc: 0.8595 - val_loss: 1.4355 - val_acc: 0.6640\n",
      "Epoch 7/50\n",
      "898/898 [==============================] - 258s 287ms/step - loss: 0.3955 - acc: 0.8636 - val_loss: 1.0506 - val_acc: 0.6682\n",
      "Epoch 8/50\n",
      "898/898 [==============================] - 258s 287ms/step - loss: 0.3940 - acc: 0.8666 - val_loss: 1.0513 - val_acc: 0.6640\n",
      "Epoch 9/50\n",
      "898/898 [==============================] - 258s 287ms/step - loss: 0.3952 - acc: 0.8627 - val_loss: 1.4324 - val_acc: 0.6665\n",
      "Epoch 10/50\n",
      "898/898 [==============================] - 258s 287ms/step - loss: 0.3944 - acc: 0.8614 - val_loss: 1.4251 - val_acc: 0.6701\n",
      "Epoch 11/50\n",
      "898/898 [==============================] - 258s 287ms/step - loss: 0.3940 - acc: 0.8644 - val_loss: 1.4243 - val_acc: 0.6682\n",
      "Epoch 12/50\n",
      "898/898 [==============================] - 258s 287ms/step - loss: 0.3965 - acc: 0.8624 - val_loss: 1.4362 - val_acc: 0.6690\n",
      "Epoch 13/50\n",
      "898/898 [==============================] - 258s 287ms/step - loss: 0.3939 - acc: 0.8616 - val_loss: 1.0506 - val_acc: 0.6656\n",
      "Epoch 14/50\n",
      "898/898 [==============================] - 258s 287ms/step - loss: 0.3956 - acc: 0.8602 - val_loss: 1.4250 - val_acc: 0.6631\n",
      "Epoch 15/50\n",
      "898/898 [==============================] - 258s 287ms/step - loss: 0.3890 - acc: 0.8652 - val_loss: 1.0625 - val_acc: 0.6682\n",
      "Epoch 16/50\n",
      "898/898 [==============================] - 258s 287ms/step - loss: 0.3940 - acc: 0.8616 - val_loss: 1.4355 - val_acc: 0.6709\n",
      "Epoch 17/50\n",
      "898/898 [==============================] - 258s 287ms/step - loss: 0.3959 - acc: 0.8653 - val_loss: 1.0507 - val_acc: 0.6654\n",
      "Epoch 18/50\n",
      "898/898 [==============================] - 258s 287ms/step - loss: 0.3914 - acc: 0.8613 - val_loss: 1.4355 - val_acc: 0.6684\n",
      "Epoch 19/50\n",
      "898/898 [==============================] - 258s 287ms/step - loss: 0.3968 - acc: 0.8626 - val_loss: 1.4317 - val_acc: 0.6679\n",
      "Epoch 20/50\n",
      "898/898 [==============================] - 258s 287ms/step - loss: 0.3959 - acc: 0.8627 - val_loss: 1.0514 - val_acc: 0.6679\n",
      "Epoch 21/50\n",
      "898/898 [==============================] - 258s 287ms/step - loss: 0.3957 - acc: 0.8616 - val_loss: 1.4243 - val_acc: 0.6631\n",
      "Epoch 22/50\n",
      "898/898 [==============================] - 259s 288ms/step - loss: 0.3938 - acc: 0.8616 - val_loss: 1.0506 - val_acc: 0.6673\n",
      "Epoch 23/50\n",
      "898/898 [==============================] - 258s 287ms/step - loss: 0.3962 - acc: 0.8634 - val_loss: 1.0513 - val_acc: 0.6656\n",
      "Epoch 24/50\n",
      "898/898 [==============================] - 258s 287ms/step - loss: 0.3957 - acc: 0.8624 - val_loss: 1.0507 - val_acc: 0.6665\n",
      "Epoch 25/50\n",
      "898/898 [==============================] - 257s 287ms/step - loss: 0.3915 - acc: 0.8636 - val_loss: 1.4250 - val_acc: 0.6695\n",
      "Epoch 26/50\n",
      "898/898 [==============================] - 257s 287ms/step - loss: 0.4011 - acc: 0.8603 - val_loss: 1.0617 - val_acc: 0.6656\n",
      "Epoch 27/50\n",
      "898/898 [==============================] - 257s 287ms/step - loss: 0.3991 - acc: 0.8619 - val_loss: 1.0618 - val_acc: 0.6662\n",
      "Epoch 28/50\n",
      "898/898 [==============================] - 257s 286ms/step - loss: 0.3964 - acc: 0.8616 - val_loss: 1.4435 - val_acc: 0.6684\n",
      "Epoch 29/50\n",
      "898/898 [==============================] - 257s 287ms/step - loss: 0.3952 - acc: 0.8631 - val_loss: 1.0691 - val_acc: 0.6631\n",
      "Epoch 30/50\n",
      "898/898 [==============================] - 257s 287ms/step - loss: 0.3964 - acc: 0.8627 - val_loss: 1.0625 - val_acc: 0.6662\n",
      "Epoch 31/50\n",
      "898/898 [==============================] - 257s 287ms/step - loss: 0.3944 - acc: 0.8635 - val_loss: 1.0625 - val_acc: 0.6659\n",
      "Epoch 32/50\n",
      "898/898 [==============================] - 257s 286ms/step - loss: 0.3918 - acc: 0.8638 - val_loss: 1.0691 - val_acc: 0.6656\n",
      "Epoch 33/50\n",
      "898/898 [==============================] - 257s 286ms/step - loss: 0.3957 - acc: 0.8637 - val_loss: 1.4362 - val_acc: 0.6645\n",
      "Epoch 34/50\n",
      "898/898 [==============================] - 257s 286ms/step - loss: 0.3979 - acc: 0.8634 - val_loss: 1.4434 - val_acc: 0.6659\n",
      "Epoch 35/50\n",
      "898/898 [==============================] - 257s 286ms/step - loss: 0.3927 - acc: 0.8635 - val_loss: 1.4355 - val_acc: 0.6679\n",
      "Epoch 36/50\n",
      "898/898 [==============================] - 257s 286ms/step - loss: 0.3927 - acc: 0.8640 - val_loss: 1.0507 - val_acc: 0.6701\n",
      "Epoch 37/50\n",
      "898/898 [==============================] - 257s 286ms/step - loss: 0.3951 - acc: 0.8627 - val_loss: 1.4317 - val_acc: 0.6695\n",
      "Epoch 38/50\n",
      "898/898 [==============================] - 257s 287ms/step - loss: 0.3947 - acc: 0.8620 - val_loss: 1.4324 - val_acc: 0.6637\n",
      "Epoch 39/50\n",
      "898/898 [==============================] - 257s 286ms/step - loss: 0.3946 - acc: 0.8639 - val_loss: 1.0507 - val_acc: 0.6656\n",
      "Epoch 40/50\n",
      "898/898 [==============================] - 257s 286ms/step - loss: 0.3924 - acc: 0.8644 - val_loss: 1.0507 - val_acc: 0.6676\n",
      "Epoch 41/50\n",
      "898/898 [==============================] - 257s 286ms/step - loss: 0.3916 - acc: 0.8658 - val_loss: 1.4324 - val_acc: 0.6645\n",
      "Epoch 42/50\n",
      "898/898 [==============================] - 257s 287ms/step - loss: 0.4000 - acc: 0.8614 - val_loss: 1.4435 - val_acc: 0.6659\n",
      "Epoch 43/50\n",
      "898/898 [==============================] - 257s 286ms/step - loss: 0.3933 - acc: 0.8660 - val_loss: 1.4354 - val_acc: 0.6723\n",
      "Epoch 44/50\n",
      "898/898 [==============================] - 257s 286ms/step - loss: 0.3949 - acc: 0.8637 - val_loss: 1.0514 - val_acc: 0.6695\n",
      "Epoch 45/50\n",
      "898/898 [==============================] - 257s 286ms/step - loss: 0.3925 - acc: 0.8639 - val_loss: 1.4435 - val_acc: 0.6687\n",
      "Epoch 46/50\n",
      "898/898 [==============================] - 257s 286ms/step - loss: 0.3956 - acc: 0.8642 - val_loss: 1.4435 - val_acc: 0.6662\n",
      "Epoch 47/50\n",
      "898/898 [==============================] - 257s 286ms/step - loss: 0.3968 - acc: 0.8607 - val_loss: 1.0625 - val_acc: 0.6651\n",
      "Epoch 48/50\n",
      "898/898 [==============================] - 257s 286ms/step - loss: 0.3961 - acc: 0.8607 - val_loss: 1.4251 - val_acc: 0.6698\n",
      "Epoch 49/50\n",
      "898/898 [==============================] - 257s 286ms/step - loss: 0.3935 - acc: 0.8641 - val_loss: 1.0625 - val_acc: 0.6662\n",
      "Epoch 50/50\n",
      "898/898 [==============================] - 257s 286ms/step - loss: 0.3965 - acc: 0.8617 - val_loss: 1.4251 - val_acc: 0.6656\n"
     ]
    }
   ],
   "source": [
    "history = redense_model.fit_generator(\n",
    "    train_generator,\n",
    "    epochs=num_epochs,\n",
    "    validation_data=val_generator,\n",
    "    verbose=1,\n",
    "    callbacks=callbacks_list\n",
    ")\n",
    "model.save('../saves/redense_model.hdf5')"
   ]
  },
  {
   "cell_type": "markdown",
   "metadata": {},
   "source": [
    "# Plot fase DENSE"
   ]
  },
  {
   "cell_type": "code",
   "execution_count": null,
   "metadata": {},
   "outputs": [],
   "source": [
    "acc = history.history['acc']\n",
    "val_acc = history.history['val_acc']\n",
    "loss = history.history['loss']\n",
    "val_loss = history.history['val_loss']\n",
    "\n",
    "epochs = range(len(acc))\n",
    "\n",
    "plt.plot(epochs, acc, 'b', label='Training acc')\n",
    "plt.plot(epochs, val_acc, 'r', label='Validation acc')\n",
    "plt.title('Training and validation accuracy')\n",
    "plt.legend()\n",
    "\n",
    "plt.figure()\n",
    "\n",
    "plt.plot(epochs, loss, 'b', label='Training loss')\n",
    "plt.plot(epochs, val_loss, 'r', label='Validation loss')\n",
    "plt.title('Training and validation loss')\n",
    "plt.legend()\n",
    "\n",
    "plt.show()"
   ]
  },
  {
   "cell_type": "markdown",
   "metadata": {},
   "source": [
    "# Test fase DENSE"
   ]
  },
  {
   "cell_type": "code",
   "execution_count": 12,
   "metadata": {},
   "outputs": [],
   "source": [
    "import random\n",
    "from sklearn import metrics\n",
    "from sklearn.metrics import classification_report\n",
    "import seaborn as sns"
   ]
  },
  {
   "cell_type": "code",
   "execution_count": 13,
   "metadata": {},
   "outputs": [
    {
     "name": "stdout",
     "output_type": "stream",
     "text": [
      "WARNING:tensorflow:Large dropout rate: 0.7 (>0.5). In TensorFlow 2.x, dropout() uses dropout rate instead of keep_prob. Please ensure that this is intended.\n"
     ]
    }
   ],
   "source": [
    "model = load_model('../saves/redense_model.hdf5')"
   ]
  },
  {
   "cell_type": "code",
   "execution_count": 14,
   "metadata": {},
   "outputs": [],
   "source": [
    "def show_confusion_matrix(validations, predictions, labels):\n",
    "\n",
    "    matrix = metrics.confusion_matrix(validations, predictions)\n",
    "    plt.figure(figsize=(6, 4))\n",
    "    sns.heatmap(matrix,\n",
    "                cmap='coolwarm',\n",
    "                linecolor='white',\n",
    "                linewidths=1,\n",
    "                xticklabels=labels,\n",
    "                yticklabels=labels,\n",
    "                annot=True,\n",
    "                fmt='d')\n",
    "    plt.title('Confusion Matrix')\n",
    "    plt.ylabel('True Label')\n",
    "    plt.xlabel('Predicted Label')\n",
    "    plt.show()"
   ]
  },
  {
   "cell_type": "code",
   "execution_count": 17,
   "metadata": {},
   "outputs": [],
   "source": [
    "test_folder = \"../Test\"\n",
    "IMAGE_SIZE = 224\n",
    "random.seed(3)\n",
    "test_batchsize = 1"
   ]
  },
  {
   "cell_type": "code",
   "execution_count": 18,
   "metadata": {},
   "outputs": [
    {
     "name": "stdout",
     "output_type": "stream",
     "text": [
      "Found 3589 images belonging to 7 classes.\n"
     ]
    }
   ],
   "source": [
    "test_datagen = ImageDataGenerator(preprocessing_function=preprocess_input)\n",
    "test_generator = test_datagen.flow_from_directory(\n",
    "        test_folder,\n",
    "        target_size=(IMAGE_SIZE, IMAGE_SIZE),\n",
    "        batch_size=test_batchsize,\n",
    "        class_mode='categorical',\n",
    "        shuffle=False)"
   ]
  },
  {
   "cell_type": "code",
   "execution_count": 19,
   "metadata": {},
   "outputs": [],
   "source": [
    "ground_truth = test_generator.classes\n",
    "label2index = test_generator.class_indices\n",
    "idx2label = dict((v, k) for k, v in label2index.items())"
   ]
  },
  {
   "cell_type": "code",
   "execution_count": 20,
   "metadata": {},
   "outputs": [
    {
     "name": "stdout",
     "output_type": "stream",
     "text": [
      "3589/3589 [==============================] - 71s 20ms/step\n"
     ]
    }
   ],
   "source": [
    "predictions = model.predict_generator(test_generator,\n",
    "                      steps=test_generator.samples / test_generator.batch_size,\n",
    "                      verbose=1)\n",
    "predicted_classes = np.argmax(predictions, axis=1)"
   ]
  },
  {
   "cell_type": "code",
   "execution_count": 21,
   "metadata": {},
   "outputs": [
    {
     "name": "stdout",
     "output_type": "stream",
     "text": [
      "No of errors = 1168/3589\n"
     ]
    },
    {
     "data": {
      "image/png": "[encoded data removed]",
      "text/plain": [
       "<Figure size 432x288 with 2 Axes>"
      ]
     },
     "metadata": {
      "needs_background": "light"
     },
     "output_type": "display_data"
    },
    {
     "name": "stdout",
     "output_type": "stream",
     "text": [
      "              precision    recall  f1-score   support\n",
      "\n",
      "           0       0.63      0.65      0.64       478\n",
      "           1       0.65      0.73      0.69        49\n",
      "           2       0.49      0.50      0.49       516\n",
      "           3       0.86      0.84      0.85       897\n",
      "           4       0.63      0.67      0.65       595\n",
      "           5       0.57      0.54      0.55       621\n",
      "           6       0.80      0.76      0.78       433\n",
      "\n",
      "    accuracy                           0.67      3589\n",
      "   macro avg       0.66      0.67      0.67      3589\n",
      "weighted avg       0.68      0.67      0.68      3589\n",
      "\n"
     ]
    }
   ],
   "source": [
    "errors = np.where(predicted_classes != ground_truth)[0]\n",
    "print(\"No of errors = {}/{}\".format(len(errors), test_generator.samples))\n",
    "labels = [\"angry\", \"disgust\", \"fear\", \"happy\", \"normal\", \"sad\", \"surprise\"]\n",
    "show_confusion_matrix(predicted_classes, ground_truth, labels)\n",
    "print(classification_report(predicted_classes, ground_truth))"
   ]
  },
  {
   "cell_type": "markdown",
   "metadata": {},
   "source": [
    "# Seconda fase SPARSE"
   ]
  },
  {
   "cell_type": "code",
   "execution_count": null,
   "metadata": {},
   "outputs": [],
   "source": [
    "from keras.layers import Input\n",
    "from keras.models import Sequential"
   ]
  },
  {
   "cell_type": "code",
   "execution_count": null,
   "metadata": {},
   "outputs": [],
   "source": [
    "model = load_model('../saves/redense_model.hdf5')"
   ]
  },
  {
   "cell_type": "code",
   "execution_count": null,
   "metadata": {},
   "outputs": [],
   "source": [
    "class Sparse(Constraint):\n",
    "    def __init__(self, mask):\n",
    "        self.mask = K.cast_to_floatx(mask)\n",
    "    \n",
    "    def __call__(self,x):\n",
    "        return self.mask * x\n",
    "    \n",
    "    def get_config(self):\n",
    "        return {'mask': self.mask}"
   ]
  },
  {
   "cell_type": "code",
   "execution_count": null,
   "metadata": {},
   "outputs": [],
   "source": [
    "def create_sparsity_masks(model,sparsity):\n",
    "    weights_list = model.get_weights()\n",
    "    masks = []\n",
    "    for weights in weights_list:\n",
    "        #We can ignore biases\n",
    "        if len(weights.shape) > 1:\n",
    "            weights_abs = np.abs(weights)\n",
    "            masks.append((weights_abs>np.percentile(weights_abs,sparsity))*1.)\n",
    "    return masks"
   ]
  },
  {
   "cell_type": "code",
   "execution_count": null,
   "metadata": {},
   "outputs": [],
   "source": [
    "masks = create_sparsity_masks(model,60)"
   ]
  },
  {
   "cell_type": "code",
   "execution_count": null,
   "metadata": {},
   "outputs": [],
   "source": [
    "input_ = Input(shape=(224, 224, 3))\n",
    "\n",
    "x = Conv2D(64, (3, 3), activation='relu', padding='same', name='conv1_1', kernel_constraint=Sparse(masks[0]))(input_)\n",
    "x = Conv2D(64, (3, 3), activation='relu', padding='same', name='conv1_2', kernel_constraint=Sparse(masks[1]))(x)\n",
    "x = MaxPooling2D((2, 2), strides=(2, 2), name='pool1')(x)\n",
    "\n",
    "x = Conv2D(128, (3, 3), activation='relu', padding='same', name='conv2_1', kernel_constraint=Sparse(masks[2]))(x)\n",
    "x = Conv2D(128, (3, 3), activation='relu', padding='same', name='conv2_2', kernel_constraint=Sparse(masks[3]))(x)\n",
    "x = MaxPooling2D((2, 2), strides=(2, 2), name='pool2')(x)\n",
    "\n",
    "x = Conv2D(256, (3, 3), activation='relu', padding='same', name='conv3_1', kernel_constraint=Sparse(masks[4]))(x)\n",
    "x = Conv2D(256, (3, 3), activation='relu', padding='same', name='conv3_2', kernel_constraint=Sparse(masks[5]))(x)\n",
    "x = Conv2D(256, (3, 3), activation='relu', padding='same', name='conv3_3', kernel_constraint=Sparse(masks[6]))(x)\n",
    "x = MaxPooling2D((2, 2), strides=(2, 2), name='pool3')(x)\n",
    "\n",
    "x = Conv2D(512, (3, 3), activation='relu', padding='same', name='conv4_1', kernel_constraint=Sparse(masks[7]))(x)\n",
    "x = Conv2D(512, (3, 3), activation='relu', padding='same', name='conv4_2', kernel_constraint=Sparse(masks[8]))(x)\n",
    "x = Conv2D(512, (3, 3), activation='relu', padding='same', name='conv4_3', kernel_constraint=Sparse(masks[9]))(x)\n",
    "x = MaxPooling2D((2, 2), strides=(2, 2), name='pool4')(x)\n",
    "\n",
    "x = Conv2D(512, (3, 3), activation='relu', padding='same', name='conv5_1', kernel_constraint=Sparse(masks[10]))(x)\n",
    "x = Conv2D(512, (3, 3), activation='relu', padding='same', name='conv5_2', kernel_constraint=Sparse(masks[11]))(x)\n",
    "x = Conv2D(512, (3, 3), activation='relu', padding='same', name='conv5_3', kernel_constraint=Sparse(masks[12]))(x)\n",
    "x = MaxPooling2D((2, 2), strides=(2, 2), name='pool5')(x)\n",
    "\n",
    "x = Flatten(name='flatten')(x)\n",
    "x = Dense(4096, name='fc6', kernel_constraint=Sparse(masks[13]))(x)\n",
    "x = Activation('relu', name='fc6/relu')(x)\n",
    "x = Dropout(0.7, name = 'Dropout')(x)\n",
    "x = Dense(4096, name='fc7', kernel_constraint=Sparse(masks[14]))(x)\n",
    "x = Activation('relu', name='fc7/relu')(x)\n",
    "x = Dense(7, activation = 'softmax', kernel_constraint=Sparse(masks[15]))(x)\n",
    "\n",
    "sparse_model = Model(input_, x)\n",
    "layers = [l for l in sparse_model.layers]\n",
    "for i in range(0, 18):\n",
    "     layers[i].trainable = False\n",
    "        \n",
    "sparse_model.summary()\n",
    "#Get weights from densely trained model\n",
    "sparse_model.set_weights(model.get_weights())"
   ]
  },
  {
   "cell_type": "code",
   "execution_count": null,
   "metadata": {},
   "outputs": [],
   "source": [
    "train_folder = \"C:/Users/nico9/Desktop/FaceDetection/Train\"\n",
    "val_folder = \"C:/Users/nico9/Desktop/FaceDetection/Val\"\n",
    "\n",
    "train_datagen = ImageDataGenerator(preprocessing_function=preprocess_input, horizontal_flip=True)\n",
    "val_datagen = ImageDataGenerator(preprocessing_function=preprocess_input, horizontal_flip=True)"
   ]
  },
  {
   "cell_type": "code",
   "execution_count": null,
   "metadata": {},
   "outputs": [],
   "source": [
    "train_batchsize = 32\n",
    "val_batchsize = 8\n",
    "IMAGE_SIZE = 224\n",
    "train_generator = train_datagen.flow_from_directory(\n",
    "        train_folder,\n",
    "        target_size=(IMAGE_SIZE, IMAGE_SIZE),\n",
    "        batch_size=train_batchsize,\n",
    "        class_mode=\"categorical\"\n",
    ")\n",
    "\n",
    "val_generator = val_datagen.flow_from_directory(\n",
    "        val_folder,\n",
    "        target_size=(IMAGE_SIZE, IMAGE_SIZE),\n",
    "        batch_size=val_batchsize,\n",
    "        class_mode=\"categorical\",\n",
    "        shuffle=False\n",
    ")"
   ]
  },
  {
   "cell_type": "code",
   "execution_count": null,
   "metadata": {},
   "outputs": [],
   "source": [
    "reduce_lr = ReduceLROnPlateau(monitor = 'val_loss', factor = 0.1 , patience = 10)\n",
    "\n",
    "csv_logger = CSVLogger('sparse2_training.log', separator=',', append=False)\n",
    "callbacks_list = [reduce_lr, csv_logger]"
   ]
  },
  {
   "cell_type": "code",
   "execution_count": null,
   "metadata": {},
   "outputs": [],
   "source": [
    "log = pd.read_csv('../notebook/redense_training.log')\n",
    "dim = len(log['lr'])\n",
    "lr = log['lr']"
   ]
  },
  {
   "cell_type": "code",
   "execution_count": null,
   "metadata": {},
   "outputs": [],
   "source": [
    "num_epochs = 50\n",
    "learning_rate = lr[dim-1]\n",
    "sgd = SGD(lr=learning_rate, momentum = 0.9)\n",
    "sparse_model.compile(loss=\"categorical_crossentropy\", optimizer=sgd, metrics=['acc'])"
   ]
  },
  {
   "cell_type": "code",
   "execution_count": null,
   "metadata": {},
   "outputs": [],
   "source": [
    "history = sparse_model.fit_generator(\n",
    "    train_generator,\n",
    "    epochs=num_epochs,\n",
    "    validation_data=val_generator,\n",
    "    verbose=1,\n",
    "    callbacks=callbacks_list\n",
    ")\n",
    "model.save('../saves/sparse2_model.hdf5')"
   ]
  },
  {
   "cell_type": "markdown",
   "metadata": {},
   "source": [
    "# Plot fase SPARSE"
   ]
  },
  {
   "cell_type": "code",
   "execution_count": null,
   "metadata": {},
   "outputs": [],
   "source": [
    "acc = history.history['acc']\n",
    "val_acc = history.history['val_acc']\n",
    "loss = history.history['loss']\n",
    "val_loss = history.history['val_loss']\n",
    "\n",
    "epochs = range(len(acc))\n",
    "\n",
    "plt.plot(epochs, acc, 'b', label='Training acc')\n",
    "plt.plot(epochs, val_acc, 'r', label='Validation acc')\n",
    "plt.title('Training and validation accuracy')\n",
    "plt.legend()\n",
    "\n",
    "plt.figure()\n",
    "\n",
    "plt.plot(epochs, loss, 'b', label='Training loss')\n",
    "plt.plot(epochs, val_loss, 'r', label='Validation loss')\n",
    "plt.title('Training and validation loss')\n",
    "plt.legend()\n",
    "\n",
    "plt.show()"
   ]
  },
  {
   "cell_type": "markdown",
   "metadata": {},
   "source": [
    "# Test fase SPARSE"
   ]
  },
  {
   "cell_type": "code",
   "execution_count": null,
   "metadata": {},
   "outputs": [],
   "source": [
    "import random\n",
    "from sklearn import metrics\n",
    "from sklearn.metrics import classification_report\n",
    "import seaborn as sns"
   ]
  },
  {
   "cell_type": "code",
   "execution_count": null,
   "metadata": {},
   "outputs": [],
   "source": [
    "def show_confusion_matrix(validations, predictions, labels):\n",
    "\n",
    "    matrix = metrics.confusion_matrix(validations, predictions)\n",
    "    plt.figure(figsize=(6, 4))\n",
    "    sns.heatmap(matrix,\n",
    "                cmap='coolwarm',\n",
    "                linecolor='white',\n",
    "                linewidths=1,\n",
    "                xticklabels=labels,\n",
    "                yticklabels=labels,\n",
    "                annot=True,\n",
    "                fmt='d')\n",
    "    plt.title('Confusion Matrix')\n",
    "    plt.ylabel('True Label')\n",
    "    plt.xlabel('Predicted Label')\n",
    "    plt.show()"
   ]
  },
  {
   "cell_type": "code",
   "execution_count": null,
   "metadata": {},
   "outputs": [],
   "source": [
    "model = load_model('../saves/sparse2_model.hdf5')"
   ]
  },
  {
   "cell_type": "code",
   "execution_count": null,
   "metadata": {},
   "outputs": [],
   "source": [
    "test_folder = \"../Test\"\n",
    "IMAGE_SIZE = 224\n",
    "random.seed(3)\n",
    "test_batchsize = 1"
   ]
  },
  {
   "cell_type": "code",
   "execution_count": null,
   "metadata": {},
   "outputs": [],
   "source": [
    "test_datagen = ImageDataGenerator(preprocessing_function=preprocess_input)\n",
    "test_generator = test_datagen.flow_from_directory(\n",
    "        test_folder,\n",
    "        target_size=(IMAGE_SIZE, IMAGE_SIZE),\n",
    "        batch_size=test_batchsize,\n",
    "        class_mode='categorical',\n",
    "        shuffle=False)"
   ]
  },
  {
   "cell_type": "code",
   "execution_count": null,
   "metadata": {},
   "outputs": [],
   "source": [
    "ground_truth = test_generator.classes\n",
    "label2index = test_generator.class_indices\n",
    "idx2label = dict((v, k) for k, v in label2index.items())"
   ]
  },
  {
   "cell_type": "code",
   "execution_count": null,
   "metadata": {},
   "outputs": [],
   "source": [
    "predictions = model.predict_generator(test_generator,\n",
    "                      steps=test_generator.samples / test_generator.batch_size,\n",
    "                      verbose=1)\n",
    "predicted_classes = np.argmax(predictions, axis=1)"
   ]
  },
  {
   "cell_type": "code",
   "execution_count": null,
   "metadata": {},
   "outputs": [],
   "source": [
    "errors = np.where(predicted_classes != ground_truth)[0]\n",
    "print(\"No of errors = {}/{}\".format(len(errors), test_generator.samples))\n",
    "labels = [\"angry\", \"disgust\", \"fear\", \"happy\", \"normal\", \"sad\", \"surprise\"]\n",
    "show_confusion_matrix(predicted_classes, ground_truth, labels)\n",
    "print(classification_report(predicted_classes, ground_truth))"
   ]
  },
  {
   "cell_type": "markdown",
   "metadata": {},
   "source": [
    "# Seconda fase DENSE"
   ]
  },
  {
   "cell_type": "code",
   "execution_count": null,
   "metadata": {},
   "outputs": [],
   "source": [
    "from keras.layers import Input\n",
    "from keras.models import Sequential"
   ]
  },
  {
   "cell_type": "code",
   "execution_count": null,
   "metadata": {},
   "outputs": [],
   "source": [
    "model = load_model('../saves/sparse2_model.hdf5')"
   ]
  },
  {
   "cell_type": "code",
   "execution_count": null,
   "metadata": {},
   "outputs": [],
   "source": [
    "input_ = Input(shape=(224, 224, 3))\n",
    "\n",
    "x = Conv2D(64, (3, 3), activation='relu', padding='same', name='conv1_1')(input_)\n",
    "x = Conv2D(64, (3, 3), activation='relu', padding='same', name='conv1_2')(x)\n",
    "x = MaxPooling2D((2, 2), strides=(2, 2), name='pool1')(x)\n",
    "\n",
    "x = Conv2D(128, (3, 3), activation='relu', padding='same', name='conv2_1')(x)\n",
    "x = Conv2D(128, (3, 3), activation='relu', padding='same', name='conv2_2')(x)\n",
    "x = MaxPooling2D((2, 2), strides=(2, 2), name='pool2')(x)\n",
    "\n",
    "x = Conv2D(256, (3, 3), activation='relu', padding='same', name='conv3_1')(x)\n",
    "x = Conv2D(256, (3, 3), activation='relu', padding='same', name='conv3_2')(x)\n",
    "x = Conv2D(256, (3, 3), activation='relu', padding='same', name='conv3_3')(x)\n",
    "x = MaxPooling2D((2, 2), strides=(2, 2), name='pool3')(x)\n",
    "\n",
    "x = Conv2D(512, (3, 3), activation='relu', padding='same', name='conv4_1')(x)\n",
    "x = Conv2D(512, (3, 3), activation='relu', padding='same', name='conv4_2')(x)\n",
    "x = Conv2D(512, (3, 3), activation='relu', padding='same', name='conv4_3')(x)\n",
    "x = MaxPooling2D((2, 2), strides=(2, 2), name='pool4')(x)\n",
    "\n",
    "x = Conv2D(512, (3, 3), activation='relu', padding='same', name='conv5_1')(x)\n",
    "x = Conv2D(512, (3, 3), activation='relu', padding='same', name='conv5_2')(x)\n",
    "x = Conv2D(512, (3, 3), activation='relu', padding='same', name='conv5_3')(x)\n",
    "x = MaxPooling2D((2, 2), strides=(2, 2), name='pool5')(x)\n",
    "\n",
    "x = Flatten(name='flatten')(x)\n",
    "x = Dense(4096, name='fc6')(x)\n",
    "x = Activation('relu', name='fc6/relu')(x)\n",
    "x = Dropout(0.7, name = 'Dropout')(x)\n",
    "x = Dense(4096, name='fc7')(x)\n",
    "x = Activation('relu', name='fc7/relu')(x)\n",
    "x = Dense(7, activation = 'softmax')(x)\n",
    "\n",
    "redense_model = Model(input_, x)\n",
    "layers = [l for l in redense_model.layers]\n",
    "for i in range(0, 18):\n",
    "     layers[i].trainable = False\n",
    "        \n",
    "redense_model.summary()\n",
    "#Get weights from densely trained model\n",
    "redense_model.set_weights(model.get_weights())"
   ]
  },
  {
   "cell_type": "code",
   "execution_count": null,
   "metadata": {},
   "outputs": [],
   "source": [
    "train_folder = \"C:/Users/nico9/Desktop/FaceDetection/Train\"\n",
    "val_folder = \"C:/Users/nico9/Desktop/FaceDetection/Val\"\n",
    "\n",
    "train_datagen = ImageDataGenerator(preprocessing_function=preprocess_input, horizontal_flip=True)\n",
    "val_datagen = ImageDataGenerator(preprocessing_function=preprocess_input, horizontal_flip=True)"
   ]
  },
  {
   "cell_type": "code",
   "execution_count": null,
   "metadata": {},
   "outputs": [],
   "source": [
    "train_batchsize = 32\n",
    "val_batchsize = 8\n",
    "IMAGE_SIZE = 224\n",
    "train_generator = train_datagen.flow_from_directory(\n",
    "        train_folder,\n",
    "        target_size=(IMAGE_SIZE, IMAGE_SIZE),\n",
    "        batch_size=train_batchsize,\n",
    "        class_mode=\"categorical\"\n",
    ")\n",
    "\n",
    "val_generator = val_datagen.flow_from_directory(\n",
    "        val_folder,\n",
    "        target_size=(IMAGE_SIZE, IMAGE_SIZE),\n",
    "        batch_size=val_batchsize,\n",
    "        class_mode=\"categorical\",\n",
    "        shuffle=False\n",
    ")"
   ]
  },
  {
   "cell_type": "code",
   "execution_count": null,
   "metadata": {},
   "outputs": [],
   "source": [
    "reduce_lr = ReduceLROnPlateau(monitor = 'val_loss', factor = 0.1 , patience = 10)\n",
    "\n",
    "csv_logger = CSVLogger('dense3_training.log', separator=',', append=False)\n",
    "callbacks_list = [reduce_lr, csv_logger]"
   ]
  },
  {
   "cell_type": "code",
   "execution_count": null,
   "metadata": {},
   "outputs": [],
   "source": [
    "log = pd.read_csv('../notebook/sparse2_training.log')\n",
    "dim = len(log['lr'])\n",
    "lr = log['lr']"
   ]
  },
  {
   "cell_type": "code",
   "execution_count": null,
   "metadata": {},
   "outputs": [],
   "source": [
    "num_epochs = 50\n",
    "learning_rate = lr[dim-1]\n",
    "sgd = SGD(lr=learning_rate, momentum = 0.9)\n",
    "redense_model.compile(loss=\"categorical_crossentropy\", optimizer=sgd, metrics=['acc'])"
   ]
  },
  {
   "cell_type": "code",
   "execution_count": null,
   "metadata": {},
   "outputs": [],
   "source": [
    "history = redense_model.fit_generator(\n",
    "    train_generator,\n",
    "    epochs=num_epochs,\n",
    "    validation_data=val_generator,\n",
    "    verbose=1,\n",
    "    callbacks=callbacks_list\n",
    ")\n",
    "model.save('../saves/dense3_model.hdf5')"
   ]
  },
  {
   "cell_type": "markdown",
   "metadata": {},
   "source": [
    "# Plot fase DENSE"
   ]
  },
  {
   "cell_type": "code",
   "execution_count": null,
   "metadata": {},
   "outputs": [],
   "source": [
    "acc = history.history['acc']\n",
    "val_acc = history.history['val_acc']\n",
    "loss = history.history['loss']\n",
    "val_loss = history.history['val_loss']\n",
    "\n",
    "epochs = range(len(acc))\n",
    "\n",
    "plt.plot(epochs, acc, 'b', label='Training acc')\n",
    "plt.plot(epochs, val_acc, 'r', label='Validation acc')\n",
    "plt.title('Training and validation accuracy')\n",
    "plt.legend()\n",
    "\n",
    "plt.figure()\n",
    "\n",
    "plt.plot(epochs, loss, 'b', label='Training loss')\n",
    "plt.plot(epochs, val_loss, 'r', label='Validation loss')\n",
    "plt.title('Training and validation loss')\n",
    "plt.legend()\n",
    "\n",
    "plt.show()"
   ]
  },
  {
   "cell_type": "markdown",
   "metadata": {},
   "source": [
    "# Test fase DENSE"
   ]
  },
  {
   "cell_type": "code",
   "execution_count": null,
   "metadata": {},
   "outputs": [],
   "source": [
    "import random\n",
    "from sklearn import metrics\n",
    "from sklearn.metrics import classification_report\n",
    "import seaborn as sns"
   ]
  },
  {
   "cell_type": "code",
   "execution_count": null,
   "metadata": {},
   "outputs": [],
   "source": [
    "model = load_model('../saves/dense3_model.hdf5')"
   ]
  },
  {
   "cell_type": "code",
   "execution_count": null,
   "metadata": {},
   "outputs": [],
   "source": [
    "def show_confusion_matrix(validations, predictions, labels):\n",
    "\n",
    "    matrix = metrics.confusion_matrix(validations, predictions)\n",
    "    plt.figure(figsize=(6, 4))\n",
    "    sns.heatmap(matrix,\n",
    "                cmap='coolwarm',\n",
    "                linecolor='white',\n",
    "                linewidths=1,\n",
    "                xticklabels=labels,\n",
    "                yticklabels=labels,\n",
    "                annot=True,\n",
    "                fmt='d')\n",
    "    plt.title('Confusion Matrix')\n",
    "    plt.ylabel('True Label')\n",
    "    plt.xlabel('Predicted Label')\n",
    "    plt.show()"
   ]
  },
  {
   "cell_type": "code",
   "execution_count": null,
   "metadata": {},
   "outputs": [],
   "source": [
    "test_folder = \"../Test\"\n",
    "IMAGE_SIZE = 224\n",
    "random.seed(3)\n",
    "test_batchsize = 1"
   ]
  },
  {
   "cell_type": "code",
   "execution_count": null,
   "metadata": {},
   "outputs": [],
   "source": [
    "test_datagen = ImageDataGenerator(preprocessing_function=preprocess_input)\n",
    "test_generator = test_datagen.flow_from_directory(\n",
    "        test_folder,\n",
    "        target_size=(IMAGE_SIZE, IMAGE_SIZE),\n",
    "        batch_size=test_batchsize,\n",
    "        class_mode='categorical',\n",
    "        shuffle=False)"
   ]
  },
  {
   "cell_type": "code",
   "execution_count": null,
   "metadata": {},
   "outputs": [],
   "source": [
    "ground_truth = test_generator.classes\n",
    "label2index = test_generator.class_indices\n",
    "idx2label = dict((v, k) for k, v in label2index.items())"
   ]
  },
  {
   "cell_type": "code",
   "execution_count": null,
   "metadata": {},
   "outputs": [],
   "source": [
    "predictions = model.predict_generator(test_generator,\n",
    "                      steps=test_generator.samples / test_generator.batch_size,\n",
    "                      verbose=1)\n",
    "predicted_classes = np.argmax(predictions, axis=1)"
   ]
  },
  {
   "cell_type": "code",
   "execution_count": null,
   "metadata": {},
   "outputs": [],
   "source": [
    "errors = np.where(predicted_classes != ground_truth)[0]\n",
    "print(\"No of errors = {}/{}\".format(len(errors), test_generator.samples))\n",
    "labels = [\"angry\", \"disgust\", \"fear\", \"happy\", \"normal\", \"sad\", \"surprise\"]\n",
    "show_confusion_matrix(predicted_classes, ground_truth, labels)\n",
    "print(classification_report(predicted_classes, ground_truth))"
   ]
  }
 ],
 "metadata": {
  "accelerator": "GPU",
  "colab": {
   "collapsed_sections": [],
   "name": "FaceDetectionvggFACE",
   "provenance": []
  },
  "kernelspec": {
   "display_name": "gputest",
   "language": "python",
   "name": "gputest"
  },
  "language_info": {
   "codemirror_mode": {
    "name": "ipython",
    "version": 3
   },
   "file_extension": ".py",
   "mimetype": "text/x-python",
   "name": "python",
   "nbconvert_exporter": "python",
   "pygments_lexer": "ipython3",
   "version": "3.7.7"
  }
 },
 "nbformat": 4,
 "nbformat_minor": 1
}
