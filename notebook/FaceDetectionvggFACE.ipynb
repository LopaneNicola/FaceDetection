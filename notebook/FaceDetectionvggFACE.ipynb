{
 "cells": [
  {
   "cell_type": "code",
   "execution_count": 1,
   "metadata": {
    "colab": {
     "base_uri": "https://localhost:8080/",
     "height": 234
    },
    "colab_type": "code",
    "id": "aNXH9i6zKIxD",
    "outputId": "8f9955b2-f996-4bc6-dcb7-833dfb13809f"
   },
   "outputs": [
    {
     "name": "stdout",
     "output_type": "stream",
     "text": [
      "Requirement already satisfied: keras-vggface in c:\\users\\nico9\\anaconda3\\envs\\gputest\\lib\\site-packages (0.6)\n",
      "Requirement already satisfied: scipy>=0.14 in c:\\users\\nico9\\appdata\\roaming\\python\\python37\\site-packages (from keras-vggface) (1.4.1)\n",
      "Requirement already satisfied: h5py in c:\\users\\nico9\\appdata\\roaming\\python\\python37\\site-packages (from keras-vggface) (2.10.0)\n",
      "Requirement already satisfied: pillow in c:\\users\\nico9\\anaconda3\\envs\\gputest\\lib\\site-packages (from keras-vggface) (7.1.2)\n",
      "Requirement already satisfied: keras in c:\\users\\nico9\\anaconda3\\envs\\gputest\\lib\\site-packages (from keras-vggface) (2.3.1)\n",
      "Requirement already satisfied: six>=1.9.0 in c:\\users\\nico9\\appdata\\roaming\\python\\python37\\site-packages (from keras-vggface) (1.14.0)\n",
      "Requirement already satisfied: pyyaml in c:\\users\\nico9\\anaconda3\\envs\\gputest\\lib\\site-packages (from keras-vggface) (5.3.1)\n",
      "Requirement already satisfied: numpy>=1.9.1 in c:\\users\\nico9\\appdata\\roaming\\python\\python37\\site-packages (from keras-vggface) (1.18.4)\n",
      "Requirement already satisfied: keras-preprocessing>=1.0.5 in c:\\users\\nico9\\appdata\\roaming\\python\\python37\\site-packages (from keras->keras-vggface) (1.1.2)\n",
      "Requirement already satisfied: keras-applications>=1.0.6 in c:\\users\\nico9\\anaconda3\\envs\\gputest\\lib\\site-packages (from keras->keras-vggface) (1.0.8)\n"
     ]
    }
   ],
   "source": [
    "!pip install keras-vggface"
   ]
  },
  {
   "cell_type": "code",
   "execution_count": 1,
   "metadata": {
    "colab": {
     "base_uri": "https://localhost:8080/",
     "height": 33
    },
    "colab_type": "code",
    "id": "uja7Om2eJ69K",
    "outputId": "a1329cda-4dea-4bea-bdc5-50763619ed01"
   },
   "outputs": [
    {
     "name": "stderr",
     "output_type": "stream",
     "text": [
      "Using TensorFlow backend.\n"
     ]
    }
   ],
   "source": [
    "from keras_vggface.vggface import VGGFace\n",
    "from keras.models import Sequential\n",
    "from keras.layers import Flatten, Dense, Dropout, Conv2D, Input, MaxPooling2D, Activation\n",
    "from keras.preprocessing.image import ImageDataGenerator\n",
    "import random\n",
    "from keras.optimizers import SGD\n",
    "from keras.applications.vgg16 import preprocess_input\n",
    "from keras.callbacks import ModelCheckpoint, ReduceLROnPlateau\n",
    "from keras import backend as K\n",
    "from keras.constraints import Constraint\n",
    "import math"
   ]
  },
  {
   "cell_type": "code",
   "execution_count": 3,
   "metadata": {
    "colab": {
     "base_uri": "https://localhost:8080/",
     "height": 50
    },
    "colab_type": "code",
    "id": "7AzMmAOUKMSZ",
    "outputId": "06655017-64f1-47d2-eef6-747386873422"
   },
   "outputs": [],
   "source": [
    "IMAGE_SIZE = 224\n",
    "vggface = VGGFace(model='vgg16', input_shape=(IMAGE_SIZE, IMAGE_SIZE, 3))"
   ]
  },
  {
   "cell_type": "code",
   "execution_count": 5,
   "metadata": {
    "colab": {
     "base_uri": "https://localhost:8080/",
     "height": 1000
    },
    "colab_type": "code",
    "id": "EZQJe5GQKW6V",
    "outputId": "c34b1657-1dfc-4e73-b381-f2ce8793c4cf"
   },
   "outputs": [
    {
     "name": "stdout",
     "output_type": "stream",
     "text": [
      "WARNING:tensorflow:Large dropout rate: 0.7 (>0.5). In TensorFlow 2.x, dropout() uses dropout rate instead of keep_prob. Please ensure that this is intended.\n",
      "Model: \"vggface_vgg16\"\n",
      "_________________________________________________________________\n",
      "Layer (type)                 Output Shape              Param #   \n",
      "=================================================================\n",
      "input_1 (InputLayer)         (None, 224, 224, 3)       0         \n",
      "_________________________________________________________________\n",
      "conv1_1 (Conv2D)             (None, 224, 224, 64)      1792      \n",
      "_________________________________________________________________\n",
      "conv1_2 (Conv2D)             (None, 224, 224, 64)      36928     \n",
      "_________________________________________________________________\n",
      "pool1 (MaxPooling2D)         (None, 112, 112, 64)      0         \n",
      "_________________________________________________________________\n",
      "conv2_1 (Conv2D)             (None, 112, 112, 128)     73856     \n",
      "_________________________________________________________________\n",
      "conv2_2 (Conv2D)             (None, 112, 112, 128)     147584    \n",
      "_________________________________________________________________\n",
      "pool2 (MaxPooling2D)         (None, 56, 56, 128)       0         \n",
      "_________________________________________________________________\n",
      "conv3_1 (Conv2D)             (None, 56, 56, 256)       295168    \n",
      "_________________________________________________________________\n",
      "conv3_2 (Conv2D)             (None, 56, 56, 256)       590080    \n",
      "_________________________________________________________________\n",
      "conv3_3 (Conv2D)             (None, 56, 56, 256)       590080    \n",
      "_________________________________________________________________\n",
      "pool3 (MaxPooling2D)         (None, 28, 28, 256)       0         \n",
      "_________________________________________________________________\n",
      "conv4_1 (Conv2D)             (None, 28, 28, 512)       1180160   \n",
      "_________________________________________________________________\n",
      "conv4_2 (Conv2D)             (None, 28, 28, 512)       2359808   \n",
      "_________________________________________________________________\n",
      "conv4_3 (Conv2D)             (None, 28, 28, 512)       2359808   \n",
      "_________________________________________________________________\n",
      "pool4 (MaxPooling2D)         (None, 14, 14, 512)       0         \n",
      "_________________________________________________________________\n",
      "conv5_1 (Conv2D)             (None, 14, 14, 512)       2359808   \n",
      "_________________________________________________________________\n",
      "conv5_2 (Conv2D)             (None, 14, 14, 512)       2359808   \n",
      "_________________________________________________________________\n",
      "conv5_3 (Conv2D)             (None, 14, 14, 512)       2359808   \n",
      "_________________________________________________________________\n",
      "pool5 (MaxPooling2D)         (None, 7, 7, 512)         0         \n",
      "=================================================================\n",
      "Total params: 14,714,688\n",
      "Trainable params: 7,079,424\n",
      "Non-trainable params: 7,635,264\n",
      "_________________________________________________________________\n",
      "Model: \"sequential_1\"\n",
      "_________________________________________________________________\n",
      "Layer (type)                 Output Shape              Param #   \n",
      "=================================================================\n",
      "vggface_vgg16 (Model)        (None, 7, 7, 512)         14714688  \n",
      "_________________________________________________________________\n",
      "flatten_1 (Flatten)          (None, 25088)             0         \n",
      "_________________________________________________________________\n",
      "dense_1 (Dense)              (None, 1024)              25691136  \n",
      "_________________________________________________________________\n",
      "dropout_1 (Dropout)          (None, 1024)              0         \n",
      "_________________________________________________________________\n",
      "dense_2 (Dense)              (None, 7)                 7175      \n",
      "=================================================================\n",
      "Total params: 40,412,999\n",
      "Trainable params: 32,777,735\n",
      "Non-trainable params: 7,635,264\n",
      "_________________________________________________________________\n"
     ]
    }
   ],
   "source": [
    "model = Sequential()\n",
    " \n",
    "model.add(vggface)\n",
    "\n",
    "model.add(Dense(7, activation=\"softmax\"))\n",
    "model.add(Dropout(0.7))\n",
    " \n",
    "vggface.summary()\n",
    "model.summary()"
   ]
  },
  {
   "cell_type": "code",
   "execution_count": 8,
   "metadata": {
    "colab": {},
    "colab_type": "code",
    "id": "e-ClF-69Kerv"
   },
   "outputs": [],
   "source": [
    "train_folder = \"C:/Users/nico9/Desktop/FaceDetection/Train\"\n",
    "val_folder = \"C:/Users/nico9/Desktop/FaceDetection/Val\"\n",
    "\n",
    "train_datagen = ImageDataGenerator(preprocessing_function=preprocess_input, horizontal_flip=True)\n",
    "val_datagen = ImageDataGenerator(preprocessing_function=preprocess_input, horizontal_flip=True)"
   ]
  },
  {
   "cell_type": "code",
   "execution_count": 9,
   "metadata": {
    "colab": {
     "base_uri": "https://localhost:8080/",
     "height": 50
    },
    "colab_type": "code",
    "id": "0BVgxQtzK00R",
    "outputId": "6e5318d7-ae44-49bc-8ac6-81d23014427b"
   },
   "outputs": [
    {
     "name": "stdout",
     "output_type": "stream",
     "text": [
      "Found 28709 images belonging to 7 classes.\n",
      "Found 3589 images belonging to 7 classes.\n"
     ]
    }
   ],
   "source": [
    "train_batchsize = 512\n",
    "val_batchsize = 8\n",
    "\n",
    "train_generator = train_datagen.flow_from_directory(\n",
    "        train_folder,\n",
    "        target_size=(IMAGE_SIZE, IMAGE_SIZE),\n",
    "        batch_size=train_batchsize,\n",
    "        class_mode=\"categorical\"\n",
    ")\n",
    "\n",
    "val_generator = val_datagen.flow_from_directory(\n",
    "        val_folder,\n",
    "        target_size=(IMAGE_SIZE, IMAGE_SIZE),\n",
    "        batch_size=val_batchsize,\n",
    "        class_mode=\"categorical\",\n",
    "        shuffle=False\n",
    ")"
   ]
  },
  {
   "cell_type": "code",
   "execution_count": 10,
   "metadata": {
    "colab": {},
    "colab_type": "code",
    "id": "tTZj0BueK3Qu"
   },
   "outputs": [],
   "source": [
    "reduce_lr = ReduceOnPlateau(monitor = 'val_loss', factor = 10, patience = 11)\n",
    "\n",
    "callbacks_list = [reduce_lr]"
   ]
  },
  {
   "cell_type": "code",
   "execution_count": 11,
   "metadata": {
    "colab": {},
    "colab_type": "code",
    "id": "3ng28XliK5ZY"
   },
   "outputs": [],
   "source": [
    "num_epochs = 200\n",
    "learning_rate = 1e-4\n",
    "sgd = SGD(lr=learning_rate)\n",
    "model.compile(loss=\"categorical_crossentropy\", optimizer=sgd, metrics=['acc'])"
   ]
  },
  {
   "cell_type": "code",
   "execution_count": null,
   "metadata": {
    "colab": {
     "base_uri": "https://localhost:8080/",
     "height": 470
    },
    "colab_type": "code",
    "id": "8ubCRRmLK7Xd",
    "outputId": "6f102321-801c-401a-abd4-1f5a9391a2a9"
   },
   "outputs": [
    {
     "name": "stdout",
     "output_type": "stream",
     "text": [
      "Epoch 1/200\n",
      "898/898 [==============================] - 290s 323ms/step - loss: 1.8990 - acc: 0.4030 - val_loss: 1.6242 - val_acc: 0.5052\n",
      "\n",
      "Epoch 00001: val_acc improved from -inf to 0.50515, saving model to C:/Users/nico9/Desktop/FaceDetection/saves/vggFace.hdf5\n",
      "Epoch 2/200\n",
      "898/898 [==============================] - 275s 307ms/step - loss: 1.2297 - acc: 0.5356 - val_loss: 1.3186 - val_acc: 0.5809\n",
      "\n",
      "Epoch 00002: val_acc improved from 0.50515 to 0.58094, saving model to C:/Users/nico9/Desktop/FaceDetection/saves/vggFace.hdf5\n",
      "Epoch 3/200\n",
      "898/898 [==============================] - 275s 307ms/step - loss: 1.0226 - acc: 0.6195 - val_loss: 1.2367 - val_acc: 0.6030\n",
      "\n",
      "Epoch 00003: val_acc improved from 0.58094 to 0.60295, saving model to C:/Users/nico9/Desktop/FaceDetection/saves/vggFace.hdf5\n",
      "Epoch 4/200\n",
      "898/898 [==============================] - 275s 307ms/step - loss: 0.8373 - acc: 0.6887 - val_loss: 1.9290 - val_acc: 0.6155\n",
      "\n",
      "Epoch 00004: val_acc improved from 0.60295 to 0.61549, saving model to C:/Users/nico9/Desktop/FaceDetection/saves/vggFace.hdf5\n",
      "Epoch 5/200\n",
      "898/898 [==============================] - 275s 306ms/step - loss: 0.6614 - acc: 0.7606 - val_loss: 1.4417 - val_acc: 0.6280\n",
      "\n",
      "Epoch 00005: val_acc improved from 0.61549 to 0.62803, saving model to C:/Users/nico9/Desktop/FaceDetection/saves/vggFace.hdf5\n",
      "Epoch 6/200\n",
      "898/898 [==============================] - 275s 306ms/step - loss: 0.4804 - acc: 0.8262 - val_loss: 1.6538 - val_acc: 0.6258\n",
      "\n",
      "Epoch 00006: val_acc did not improve from 0.62803\n",
      "Epoch 7/200\n",
      "898/898 [==============================] - 275s 306ms/step - loss: 0.3302 - acc: 0.8862 - val_loss: 1.4746 - val_acc: 0.6275\n",
      "\n",
      "Epoch 00007: val_acc did not improve from 0.62803\n",
      "Epoch 8/200\n",
      "898/898 [==============================] - 275s 307ms/step - loss: 0.2395 - acc: 0.9196 - val_loss: 1.7347 - val_acc: 0.6289\n",
      "\n",
      "Epoch 00008: val_acc improved from 0.62803 to 0.62887, saving model to C:/Users/nico9/Desktop/FaceDetection/saves/vggFace.hdf5\n",
      "Epoch 9/200\n",
      "898/898 [==============================] - 275s 307ms/step - loss: 0.1964 - acc: 0.9373 - val_loss: 1.9396 - val_acc: 0.6411\n",
      "\n",
      "Epoch 00009: val_acc improved from 0.62887 to 0.64113, saving model to C:/Users/nico9/Desktop/FaceDetection/saves/vggFace.hdf5\n",
      "Epoch 10/200\n",
      "898/898 [==============================] - 275s 306ms/step - loss: 0.1653 - acc: 0.9472 - val_loss: 1.6106 - val_acc: 0.6269\n",
      "\n",
      "Epoch 00010: val_acc did not improve from 0.64113\n",
      "Epoch 11/200\n",
      "898/898 [==============================] - 275s 306ms/step - loss: 0.1463 - acc: 0.9553 - val_loss: 2.0232 - val_acc: 0.6211\n",
      "\n",
      "Epoch 00011: val_acc did not improve from 0.64113\n",
      "Epoch 12/200\n",
      "898/898 [==============================] - 275s 306ms/step - loss: 0.1341 - acc: 0.9582 - val_loss: 3.0064 - val_acc: 0.6291\n",
      "\n",
      "Epoch 00012: val_acc did not improve from 0.64113\n",
      "Epoch 13/200\n",
      "898/898 [==============================] - 275s 306ms/step - loss: 0.1293 - acc: 0.9615 - val_loss: 1.7114 - val_acc: 0.6342\n",
      "\n",
      "Epoch 00013: val_acc did not improve from 0.64113\n",
      "Epoch 14/200\n",
      "898/898 [==============================] - 275s 306ms/step - loss: 0.1110 - acc: 0.9664 - val_loss: 1.8086 - val_acc: 0.6278\n",
      "\n",
      "Epoch 00014: val_acc did not improve from 0.64113\n",
      "Epoch 15/200\n",
      "898/898 [==============================] - 275s 306ms/step - loss: 0.1137 - acc: 0.9675 - val_loss: 2.7296 - val_acc: 0.6289\n",
      "\n",
      "Epoch 00015: val_acc did not improve from 0.64113\n",
      "Epoch 16/200\n",
      "898/898 [==============================] - 276s 307ms/step - loss: 0.1157 - acc: 0.9643 - val_loss: 2.4482 - val_acc: 0.6236\n",
      "\n",
      "Epoch 00016: val_acc did not improve from 0.64113\n",
      "Epoch 17/200\n",
      "898/898 [==============================] - 275s 306ms/step - loss: 0.1037 - acc: 0.9683 - val_loss: 1.8462 - val_acc: 0.6344\n",
      "\n",
      "Epoch 00017: val_acc did not improve from 0.64113\n",
      "Epoch 18/200\n",
      "898/898 [==============================] - 275s 306ms/step - loss: 0.0969 - acc: 0.9711 - val_loss: 2.2392 - val_acc: 0.6177\n",
      "\n",
      "Epoch 00018: val_acc did not improve from 0.64113\n",
      "Epoch 19/200\n",
      "898/898 [==============================] - 275s 306ms/step - loss: 0.0956 - acc: 0.9714 - val_loss: 2.4963 - val_acc: 0.6278\n",
      "\n",
      "Epoch 00019: val_acc did not improve from 0.64113\n",
      "Epoch 20/200\n",
      "353/898 [==========>...................] - ETA: 2:26 - loss: 0.0791 - acc: 0.9765"
     ]
    }
   ],
   "source": [
    "history = model.fit_generator(\n",
    "    train_generator,\n",
    "    epochs=num_epochs,\n",
    "    validation_data=val_generator,\n",
    "    verbose=1,\n",
    "    callbacks=callbacks_list\n",
    ")"
   ]
  },
  {
   "cell_type": "markdown",
   "metadata": {},
   "source": [
    "# Fase Sparse"
   ]
  },
  {
   "cell_type": "code",
   "execution_count": null,
   "metadata": {},
   "outputs": [],
   "source": [
    "class Sparse(Constraint):\n",
    "    def __init__(self, mask):\n",
    "        self.mask = K.cast_to_floatx(mask)\n",
    "    \n",
    "    def __call__(self,x):\n",
    "        return self.mask * x\n",
    "    \n",
    "    def get_config(self):\n",
    "        return {'mask': self.mask}"
   ]
  },
  {
   "cell_type": "code",
   "execution_count": null,
   "metadata": {},
   "outputs": [],
   "source": [
    "def create_sparsity_masks(model,sparsity):\n",
    "    weights_list = model.get_weights()\n",
    "    masks = []\n",
    "    for weights in weights_list:\n",
    "        #We can ignore biases\n",
    "        if len(weights.shape) > 1:\n",
    "            weights_abs = np.abs(weights)\n",
    "            masks.append((weights_abs>np.percentile(weights_abs,sparsity))*1.)\n",
    "    return masks"
   ]
  },
  {
   "cell_type": "code",
   "execution_count": null,
   "metadata": {},
   "outputs": [],
   "source": [
    "masks = create_sparsity_masks(model,30)"
   ]
  },
  {
   "cell_type": "code",
   "execution_count": null,
   "metadata": {},
   "outputs": [],
   "source": [
    "sparse_model = Sequential([\n",
    "    Conv2D(32,3,input_shape=(28,28,1), kernel_constraint=Sparse(masks[0])),\n",
    "    Activation('relu'),\n",
    "    MaxPooling2D(2,2),\n",
    "    Dropout(0.25),\n",
    "    Conv2D(64,3, kernel_constraint=Sparse(masks[1])),\n",
    "    Activation('relu'),\n",
    "    MaxPooling2D(2,2),\n",
    "    Dropout(0.25),\n",
    "    Flatten(),\n",
    "    Dense(250, kernel_constraint=Sparse(masks[2])),\n",
    "    Activation('relu'),\n",
    "    Dropout(0.4),\n",
    "    Dense(10, kernel_constraint=Sparse(masks[3])),\n",
    "    Activation('softmax')\n",
    "])\n",
    "\n",
    "adam = Adam()\n",
    "sparse_model.compile(loss='categorical_crossentropy', optimizer=adam, metrics=['accuracy'])\n",
    "sparse_model.summary()\n",
    "#Get weights from densely trained model\n",
    "sparse_model.set_weights(model.get_weights())"
   ]
  },
  {
   "cell_type": "code",
   "execution_count": null,
   "metadata": {},
   "outputs": [],
   "source": [
    "num_epochs = 50\n",
    "history = sparse_model.fit_generator(\n",
    "    train_generator,\n",
    "    epochs=num_epochs,\n",
    "    validation_data=val_generator,\n",
    "    verbose=1,\n",
    "    callbacks=callbacks_list\n",
    ")"
   ]
  },
  {
   "cell_type": "markdown",
   "metadata": {},
   "source": [
    "# Fase Dense"
   ]
  },
  {
   "cell_type": "code",
   "execution_count": null,
   "metadata": {},
   "outputs": [],
   "source": [
    "redense_model = Sequential([\n",
    "    Conv2D(32,3,input_shape=(28,28,1)),\n",
    "    Activation('relu'),\n",
    "    MaxPooling2D(2,2),\n",
    "    Dropout(0.25),\n",
    "    Conv2D(64,3),\n",
    "    Activation('relu'),\n",
    "    MaxPooling2D(2,2),\n",
    "    Dropout(0.25),\n",
    "    Flatten(),\n",
    "    Dense(250),\n",
    "    Activation('relu'),\n",
    "    Dropout(0.4),\n",
    "    Dense(10),\n",
    "    Activation('softmax')\n",
    "])\n",
    "\n",
    "adam = Adam(lr=0.0001)#Default Adam lr is 0.001 so I set it to 0.0001\n",
    "redense_model.compile(loss='categorical_crossentropy', optimizer=adam, metrics=['accuracy'])\n",
    "redense_model.summary()\n",
    "#Get weights from sparsely trained model\n",
    "redense_model.set_weights(sparse_model.get_weights())"
   ]
  },
  {
   "cell_type": "code",
   "execution_count": null,
   "metadata": {},
   "outputs": [],
   "source": [
    "num_epochs = 50\n",
    "history = redense_model.fit_generator(\n",
    "    train_generator,\n",
    "    epochs=num_epochs,\n",
    "    validation_data=val_generator,\n",
    "    verbose=1,\n",
    "    callbacks=callbacks_list\n",
    ")"
   ]
  }
 ],
 "metadata": {
  "accelerator": "GPU",
  "colab": {
   "collapsed_sections": [],
   "name": "FaceDetectionvggFACE",
   "provenance": []
  },
  "kernelspec": {
   "display_name": "gputest",
   "language": "python",
   "name": "gputest"
  },
  "language_info": {
   "codemirror_mode": {
    "name": "ipython",
    "version": 3
   },
   "file_extension": ".py",
   "mimetype": "text/x-python",
   "name": "python",
   "nbconvert_exporter": "python",
   "pygments_lexer": "ipython3",
   "version": "3.7.7"
  }
 },
 "nbformat": 4,
 "nbformat_minor": 1
}
