{
 "cells": [
  {
   "cell_type": "markdown",
   "metadata": {},
   "source": [
    "Definiamo la funzione **FDVGGface** che andrà a caricare il modello addestrato della VGGFace basato su resnet50 sulla quale verrà classificata l'immagine del volto, che verrà catturata in tempo reale dalla webcam del PC, in base alle 7 classi di emozioni (angry, disgust, fear, happy, sad, surprise, neutral). All'immagine catturata verrà applicato un resize pari a 224. Per chiudere la finestra che cattura l'immagine basterà premere il tasto q, aspettare qualche secondo e selezionare la X."
   ]
  },
  {
   "cell_type": "code",
   "execution_count": 2,
   "metadata": {},
   "outputs": [],
   "source": [
    "def FDResNet50():\n",
    "    import os\n",
    "    import cv2\n",
    "    import numpy as np\n",
    "    from keras.models import model_from_json\n",
    "    from keras.preprocessing import image\n",
    "    from keras.models import load_model\n",
    "    \n",
    "    model = load_model('../saves/dense3_ResNet50.hdf5')\n",
    "    \n",
    "    face_haar_cascade = cv2.CascadeClassifier('../haarcascade_frontalface_default.xml')\n",
    "    cap=cv2.VideoCapture(0)\n",
    "    while True:\n",
    "        ret,test_img=cap.read()\n",
    "        if not ret:\n",
    "            continue\n",
    "        gray_img = test_img\n",
    "        faces_detected = face_haar_cascade.detectMultiScale(gray_img, 1.32, 5)\n",
    "\n",
    "        for (x,y,w,h) in faces_detected:\n",
    "            cv2.rectangle(test_img,(x,y),(x+w,y+h),(255,0,0),thickness=7)\n",
    "\n",
    "            roi_gray=gray_img[y:y+w,x:x+h]\n",
    "            roi_gray=cv2.resize(roi_gray,(224,224))\n",
    "\n",
    "            img_pixels = image.img_to_array(roi_gray)\n",
    "            img_pixels = np.expand_dims(img_pixels, axis = 0)\n",
    "            img_pixels /= 255\n",
    "\n",
    "            predictions = model.predict(img_pixels)\n",
    "            max_index = np.argmax(predictions[0])\n",
    "\n",
    "            emotions = ('angry', 'disgust', 'fear', 'happy', 'sad', 'surprise', 'neutral')\n",
    "            predicted_emotion = emotions[max_index]\n",
    "\n",
    "            cv2.putText(test_img, predicted_emotion, (int(x), int(y)), cv2.FONT_HERSHEY_SIMPLEX, 1, (0,0,255), 2)\n",
    "\n",
    "        resized_img = cv2.resize(test_img, (1000, 700))\n",
    "        cv2.imshow('Facial emotion analysis ',resized_img)\n",
    "\n",
    "        if cv2.waitKey(10) == ord('q'):\n",
    "            break\n",
    "\n",
    "    cap.release()\n",
    "    cv2.destroyAllWindows\n",
    "\n"
   ]
  },
  {
   "cell_type": "markdown",
   "metadata": {},
   "source": [
    "Definiamo la funzione **FDVGGface** che andrà a caricare il modello addestrato della VGGFace basato su vgg16 sulla quale verrà classificata l'immagine del volto, che verrà catturata in tempo reale dalla webcam del PC, in base alle 7 classi di emozioni (angry, disgust, fear, happy, sad, surprise, neutral). All'immagine catturata verrà applicato un resize pari a 224. Per chiudere la finestra che cattura l'immagine basterà premere il tasto q, aspettare qualche secondo e selezionare la X."
   ]
  },
  {
   "cell_type": "code",
   "execution_count": 3,
   "metadata": {},
   "outputs": [],
   "source": [
    "def FDVGGface():\n",
    "    import os\n",
    "    import cv2\n",
    "    import numpy as np\n",
    "    from keras.models import model_from_json\n",
    "    from keras.preprocessing import image\n",
    "    from keras.models import load_model\n",
    "    \n",
    "    model = load_model('../saves/dense3_model.hdf5')\n",
    "    \n",
    "    face_haar_cascade = cv2.CascadeClassifier('../haarcascade_frontalface_default.xml')\n",
    "    cap=cv2.VideoCapture(0)\n",
    "    while True:\n",
    "        ret,test_img=cap.read()\n",
    "        if not ret:\n",
    "            continue\n",
    "        gray_img = test_img\n",
    "        faces_detected = face_haar_cascade.detectMultiScale(gray_img, 1.32, 5)\n",
    "\n",
    "        for (x,y,w,h) in faces_detected:\n",
    "            cv2.rectangle(test_img,(x,y),(x+w,y+h),(255,0,0),thickness=7)\n",
    "\n",
    "            roi_gray=gray_img[y:y+w,x:x+h]\n",
    "            roi_gray=cv2.resize(roi_gray,(224,224))\n",
    "\n",
    "            img_pixels = image.img_to_array(roi_gray)\n",
    "            img_pixels = np.expand_dims(img_pixels, axis = 0)\n",
    "            img_pixels /= 255\n",
    "\n",
    "            predictions = model.predict(img_pixels)\n",
    "            max_index = np.argmax(predictions[0])\n",
    "\n",
    "            emotions = ('angry', 'disgust', 'fear', 'happy', 'sad', 'surprise', 'neutral')\n",
    "            predicted_emotion = emotions[max_index]\n",
    "\n",
    "            cv2.putText(test_img, predicted_emotion, (int(x), int(y)), cv2.FONT_HERSHEY_SIMPLEX, 1, (0,0,255), 2)\n",
    "\n",
    "        resized_img = cv2.resize(test_img, (1000, 700))\n",
    "        cv2.imshow('Facial emotion analysis ',resized_img)\n",
    "\n",
    "        if cv2.waitKey(10) == ord('q'):\n",
    "            break\n",
    "\n",
    "    cap.release()\n",
    "    cv2.destroyAllWindows"
   ]
  },
  {
   "cell_type": "markdown",
   "metadata": {},
   "source": [
    "Chiediamo all'utente quale modello utilizzare per la classificazione delle immagine. Per fare ciò andiamo a definire due pulsanti **VGGFace(VGG16)** e **VGGFace(ResNet50)**, il primo si collega alla funzione FDVGGface mentre il secondo a FDResNet50."
   ]
  },
  {
   "cell_type": "code",
   "execution_count": 6,
   "metadata": {},
   "outputs": [
    {
     "name": "stdout",
     "output_type": "stream",
     "text": [
      "WARNING:tensorflow:Large dropout rate: 0.7 (>0.5). In TensorFlow 2.x, dropout() uses dropout rate instead of keep_prob. Please ensure that this is intended.\n"
     ]
    }
   ],
   "source": [
    "from tkinter import *\n",
    "import tkinter.messagebox\n",
    "top = Tk()\n",
    "top.geometry('300x200')\n",
    "label = Label(\n",
    "    top,\n",
    "    text=\"Choose model\")\n",
    "    \n",
    "B = Button(top, text =\"VGGFace(VGG16)\", width=25, height=2, command=FDVGGface)\n",
    "B1 = Button(top, text=\"VGGFace(ResNet50)\", width=25, height=2, command = FDResNet50)\n",
    "\n",
    "\n",
    "label.pack()\n",
    "B.pack()\n",
    "B1.pack()\n",
    "\n",
    "top.mainloop()"
   ]
  }
 ],
 "metadata": {
  "kernelspec": {
   "display_name": "gputest",
   "language": "python",
   "name": "gputest"
  },
  "language_info": {
   "codemirror_mode": {
    "name": "ipython",
    "version": 3
   },
   "file_extension": ".py",
   "mimetype": "text/x-python",
   "name": "python",
   "nbconvert_exporter": "python",
   "pygments_lexer": "ipython3",
   "version": "3.7.7"
  }
 },
 "nbformat": 4,
 "nbformat_minor": 4
}
